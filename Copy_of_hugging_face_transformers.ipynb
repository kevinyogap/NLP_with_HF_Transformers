{
 "cells": [
  {
   "cell_type": "markdown",
   "metadata": {
    "id": "CJTx5tqpqJjH"
   },
   "source": [
    "<p style=\"text-align:center\">\n",
    "    <a href=\"https://skills.network/?utm_medium=Exinfluencer&utm_source=Exinfluencer&utm_content=000026UJ&utm_term=10006555&utm_id=NA-SkillsNetwork-Channel-SkillsNetworkGuidedProjectsIBMGPXX0AIAEN102-2022-01-01\" target=\"_blank\">\n",
    "    <img src=\"https://cf-courses-data.s3.us.cloud-object-storage.appdomain.cloud/assets/logos/SN_web_lightmode.png\" width=\"200\" alt=\"Skills Network Logo\"  />\n",
    "    </a>\n",
    "</p>\n"
   ]
  },
  {
   "cell_type": "markdown",
   "metadata": {
    "id": "GoL8GNLiqJjI"
   },
   "source": [
    "# <center> **Introduction to Natural Language Processing  with Hugging Face Transformers** <center>\n"
   ]
  },
  {
   "cell_type": "markdown",
   "metadata": {
    "id": "o9zAtHu_qJjJ"
   },
   "source": [
    "<center> <img src=\"https://cf-courses-data.s3.us.cloud-object-storage.appdomain.cloud/IBM-GPXX0AIAEN/Transformers_models.png\" width=\"60%\" alt=\"iris image\"> <center>\n",
    "\n",
    "Image Source: [nvidia](https://blogs.nvidia.com/blog/2022/03/25/what-is-a-transformer-model/?utm_medium=Exinfluencer&utm_source=Exinfluencer&utm_content=000026UJ&utm_term=10006555&utm_id=NA-SkillsNetwork-Channel-SkillsNetworkGuidedProjectsIBMGPXX0AIAEN102-2022-01-01)\n"
   ]
  },
  {
   "cell_type": "markdown",
   "metadata": {
    "id": "eNC81VKTqJjJ"
   },
   "source": [
    "Estimated time needed: **30** minutes\n"
   ]
  },
  {
   "cell_type": "markdown",
   "metadata": {
    "id": "BFRHYFcjqJjJ"
   },
   "source": [
    "This Guided Project will walk you through some of the applications of Hugging Face Transformers in Natural Language Processing (NLP).\n",
    "\n",
    "Hugging Face Transformers package is very popular and versatile Python library that provides pre-trained models for a variety of applications in NLP, as well other areas such as image analysis, audio analysis, multimodal analysis (optical character recognition, video classification, visual question answering and many more).\n"
   ]
  },
  {
   "cell_type": "markdown",
   "metadata": {
    "id": "iqOig2q_qJjJ"
   },
   "source": [
    "This Guided Project will focus on text analysis tasks, which are:\n",
    "\n",
    "*   Text Classification.\n",
    "    *   Sentiment Analysis. Classifies the polarity of a given text.\n",
    "*   Topic Classification. Classifies sequences into specified class names.\n",
    "*   Text Generator. Generates text from a given input.\n",
    "*   Token Classification.\n",
    "    *   Name Entity Recognition (NER). Labels each word with the entity it represents.\n",
    "*   Question answering. Extracts the answer from the context.\n",
    "*   Text Summarization. Generates a summary of a long sequence of text or document.\n",
    "*   Translation. Translates text into another language.\n"
   ]
  },
  {
   "cell_type": "markdown",
   "metadata": {
    "id": "SdkzHvVMqJjJ"
   },
   "source": [
    "## __Table of Contents__\n",
    "\n",
    "<ol>\n",
    "    <li><a href=\"#Objectives\">Objectives</a></li>\n",
    "    <li>\n",
    "        <a href=\"#Setup\">Setup</a>\n",
    "        <ol>\n",
    "            <li><a href=\"#Installing-Required-Libraries\">Installing Required Libraries</a></li>\n",
    "            <li><a href=\"#Importing-Required-Libraries\">Importing Required Libraries</a></li>\n",
    "        </ol>\n",
    "    </li>\n",
    "    <li>\n",
    "        <a href=\"#Background-(optional)\">Background (optional)</a>\n",
    "        <ol>\n",
    "            <li><a href=\"#Example-1--Sentiment-Analysis?\">Example 1 - Sentiment Analysis</a></li>\n",
    "            <li><a href=\"#Example-2--Topic-Classification?\">Example 2 - Topic Classification</a></li>\n",
    "            <li><a href=\"#Example-3--Text-Generator?\">Example 3 - Text Generator: Masked Language Modeling</a></li>\n",
    "            <li><a href=\"#Example-4--Name-Entity-Recognition?\">Example 4 - Name Entity Recognition</a></li>\n",
    "            <li><a href=\"#Example-5--Question-Answering?\">Example 5 - Question Answering</a></li>\n",
    "            <li><a href=\"#Example-6--Text-Summarization?\">Example 6 - Text Summarization</a></li>\n",
    "            <li><a href=\"#Example-7--Translation?\">Example 7 - Translation</a></li>\n",
    "        </ol>\n",
    "    </li>\n",
    "</ol>\n",
    "\n",
    "<a href=\"#Exercises\">Exercises</a>\n",
    "<ol>\n",
    "    <li><a href=\"#Exercise-1---Sentiment-Analysis)\">Exercise 1. Sentiment Analysis</a></li>\n",
    "    <li><a href=\"#Exercise-2---Topic-Classification\">Exercise 2. Topic Classification</a></li>\n",
    "    <li><a href=\"#Exercise-3---Text-Generation\">Exercise 3. Text Generation</a></li>\n",
    "    <li><a href=\"#Exercise-4---Name-Entity-Recognition\">Exercise 4. Name Entity Recognition</a></li>\n",
    "    <li><a href=\"#Exercise-5---Question-Answering\">Exercise 5. Question Answering</a></li>\n",
    "    <li><a href=\"#Exercise-6---Text-Summarization\">Exercise 6. Text Summarization</a></li>\n",
    "    <li><a href=\"#Exercise-7---Translation\">Exercise 7. Translation</a></li>\n",
    "</ol>\n"
   ]
  },
  {
   "cell_type": "markdown",
   "metadata": {
    "id": "PuLL2nSAqJjJ"
   },
   "source": [
    "## Objectives\n",
    "\n",
    "After completing this lab you will be able to:\n",
    "\n",
    " - Use Hugging Face Transformers to do:\n",
    "   - Sentiment Analysis\n",
    "   - Topic Classification\n",
    "   - Text Generation\n",
    "   - Name Entity Recognition\n",
    "   - Question Answering\n",
    "   - Text Summarization\n",
    "   - Text Translation\n"
   ]
  },
  {
   "cell_type": "markdown",
   "metadata": {
    "id": "G7HlNG6cqJjK"
   },
   "source": [
    "----\n"
   ]
  },
  {
   "cell_type": "markdown",
   "metadata": {
    "id": "q__KxypRqJjK"
   },
   "source": [
    "## Setup\n"
   ]
  },
  {
   "cell_type": "markdown",
   "metadata": {
    "id": "pZyCgTIpqJjK"
   },
   "source": [
    "For this lab, we will be using the following libraries:\n",
    "\n",
    "*   [`pandas`](https://pandas.pydata.org/?utm_medium=Exinfluencer&utm_source=Exinfluencer&utm_content=000026UJ&utm_term=10006555&utm_id=NA-SkillsNetwork-Channel-SkillsNetworkCoursesIBMML0187ENSkillsNetwork31430127-2021-01-01) for managing the data.\n"
   ]
  },
  {
   "cell_type": "markdown",
   "metadata": {
    "id": "dvfvr_TGqJjK"
   },
   "source": [
    "### Installing Required Libraries\n",
    "\n"
   ]
  },
  {
   "cell_type": "markdown",
   "metadata": {
    "id": "SrVYyRucqJjL"
   },
   "source": [
    "The following required libraries are __not__ pre-installed in the Skills Network Labs environment. __You will need to run the following cell__ to install them:\n"
   ]
  },
  {
   "cell_type": "code",
   "execution_count": null,
   "metadata": {
    "colab": {
     "base_uri": "https://localhost:8080/"
    },
    "id": "xpL8_gzhqJjM",
    "outputId": "4a1ea5fb-7997-4637-9209-81b841991e6b",
    "tags": []
   },
   "outputs": [],
   "source": [
    "!pip install torch"
   ]
  },
  {
   "cell_type": "code",
   "execution_count": null,
   "metadata": {
    "id": "p7oro70zqJjM",
    "tags": []
   },
   "outputs": [],
   "source": [
    "!pip install -q transformers"
   ]
  },
  {
   "cell_type": "code",
   "execution_count": null,
   "metadata": {
    "colab": {
     "base_uri": "https://localhost:8080/"
    },
    "id": "Q_HbVMRaqJjM",
    "outputId": "9793481a-121d-4f65-b07b-5e7309fc4394",
    "tags": []
   },
   "outputs": [],
   "source": [
    "!pip install datasets evaluate transformers[sentencepiece]"
   ]
  },
  {
   "cell_type": "code",
   "execution_count": null,
   "metadata": {
    "colab": {
     "base_uri": "https://localhost:8080/"
    },
    "id": "A7tVn-_5qJjM",
    "outputId": "b0103c7c-ebf5-451f-e912-3cb7f49e8a1f",
    "tags": []
   },
   "outputs": [],
   "source": [
    "!pip install sacremoses"
   ]
  },
  {
   "cell_type": "markdown",
   "metadata": {
    "id": "r0pRtrYbqJjM"
   },
   "source": [
    "Please **restart the kernel** after running the above installs.\n"
   ]
  },
  {
   "cell_type": "markdown",
   "metadata": {
    "id": "eZOjmNNKqJjM"
   },
   "source": [
    "### Importing Required Libraries\n",
    "\n",
    "_We recommend you import all required libraries in one place (here):_\n"
   ]
  },
  {
   "cell_type": "code",
   "execution_count": null,
   "metadata": {
    "id": "WTVF2bH_qJjN"
   },
   "outputs": [],
   "source": [
    "import warnings\n",
    "warnings.filterwarnings('ignore')"
   ]
  },
  {
   "cell_type": "code",
   "execution_count": null,
   "metadata": {
    "id": "-6qlzfb_qJjN"
   },
   "outputs": [],
   "source": [
    "from transformers import pipeline\n",
    "from transformers import AutoTokenizer\n",
    "from transformers import AutoModel"
   ]
  },
  {
   "cell_type": "markdown",
   "metadata": {
    "id": "i8tKq_21qJjN"
   },
   "source": [
    "## Background (optional)\n",
    "\n",
    "### What is a Transformer Model?\n",
    "\n",
    "A Transformer Model is a neural network that learns context and thus meaning by tracking relationships in sequential data, for example, words in a sentence. Transformer models apply an evolving set of mathematical techniques, called attention or self-attention, differently weighing the significance of each part of the input data. They are used primarily in the fields of natural language processing and computer vision. Similarly to recurrent neural networks (RNNs), transformers are designed to process sequential data, for example a body of text, with applications such as translation and text summarization. However, unlike RNNs, transformers process the entire input all at once. The attention mechanism provides context for any position in the input sequence. For example, if the input data is a natural language sentence, the transformer does not have to process one word at a time. This allows for more parallelization than RNNs, and therefore, reduces training times. The additional training parallelization allows training on larger datasets. This led to the development of pre-trained systems such as BERT (Bidirectional Encoder Representations from Transformers) and GPT (Generative Pre-trained Transformer), which were trained with large language datasets, such as the Wikipedia Corpus and Common Crawl, and can be fine-tuned for specific tasks.\n",
    "\n",
    "Transformer models were first described in a [2017 paper](https://arxiv.org/abs/1706.03762?utm_medium=Exinfluencer&utm_source=Exinfluencer&utm_content=000026UJ&utm_term=10006555&utm_id=NA-SkillsNetwork-Channel-SkillsNetworkGuidedProjectsIBMGPXX0AIAEN102-2022-01-01) from Google, as the newest and the most powerful classes of models invented today, replacing some RNNs.\n",
    "\n",
    "### What do Transformer Models do?\n",
    "\n",
    "Transformer Models have many useful applications in today world. They are widely used in near real-time translation tasks, opening communication spaces to language-diverse and hearing-impaired audiences. These models are advancing medical research by helping scientists to understand the DNA and amino acid sequences to speed up the development and improve the quality of treatments for different diseases. The models can detect anomalies to prevent fraud detection, streamline manufacturing, make recommendations and overall improve our day-to-day quality of life.\n",
    "\n",
    "### Transformer Model Architecture\n",
    "\n",
    "<img src=\"https://cf-courses-data.s3.us.cloud-object-storage.appdomain.cloud/IBM-GPXX0AIAEN/The-Transformer-model-architecture.png\" width=\"50%\" alt=\"iris image\">\n",
    "\n",
    "Image Source: [wikipedia](https://en.wikipedia.org/wiki/Transformer_\\(machine_learning_model\\)?utm_medium=Exinfluencer&utm_source=Exinfluencer&utm_content=000026UJ&utm_term=10006555&utm_id=NA-SkillsNetwork-Channel-SkillsNetworkGuidedProjectsIBMGPXX0AIAEN102-2022-01-01)\n",
    "\n",
    "The diagram above describes the pipeline between the input, output and positional encoding. For more information on Transformer Architecture visit this [wikipedia](https://en.wikipedia.org/wiki/Transformer_\\(machine_learning_model\\)?utm_medium=Exinfluencer&utm_source=Exinfluencer&utm_content=000026UJ&utm_term=10006555&utm_id=NA-SkillsNetwork-Channel-SkillsNetworkGuidedProjectsIBMGPXX0AIAEN102-2022-01-01) page.\n"
   ]
  },
  {
   "cell_type": "markdown",
   "metadata": {
    "id": "NGZZLw9QqJjN"
   },
   "source": [
    "### How to use Hugging Face Transformers\n",
    "\n",
    "There is very easy way to apply Hugging Face Transformers, it is to use the `pipeline()` function. The pipeline makes it simple to use any model from the Hugging Face Hub for inference on any language, computer vision, speech, or multimodal tasks. Each task has an associated pipeline. However, it is simpler to use the general pipeline abstraction, which contains all the task-specific pipelines. The `pipeline()` automatically loads a default model and a pre-processing class capable of inference for any of your desired tasks.\n",
    "\n",
    "The links beside each of the 7 Examples shown here, are from Hugging Face community and contain more information about the models and data they were trained on.\n",
    "This [Hugging Face Page](https://huggingface.co/models?utm_medium=Exinfluencer&utm_source=Exinfluencer&utm_content=000026UJ&utm_term=10006555&utm_id=NA-SkillsNetwork-Channel-SkillsNetworkGuidedProjectsIBMGPXX0AIAEN102-2022-01-01) also contains ALL the models created by this community.\n"
   ]
  },
  {
   "cell_type": "markdown",
   "metadata": {
    "id": "9wHeSuQeqJjN"
   },
   "source": [
    "### Example 1 - [Sentiment Analysis](https://huggingface.co/blog/sentiment-analysis-python?utm_medium=Exinfluencer&utm_source=Exinfluencer&utm_content=000026UJ&utm_term=10006555&utm_id=NA-SkillsNetwork-Channel-SkillsNetworkGuidedProjectsIBMGPXX0AIAEN102-2022-01-01)\n",
    "\n",
    "\n",
    "**Sentiment analysis** is a natural language processing technique that identifies the polarity of a given text. Some of the most common practical uses of sentiment analysis are tweets analysis, product reviews, support tickets classification and others. Sentiment analysis allows quick processing of large amounts, real-time data. The Diagram below, describes the process of Sentiment Analysis. As shown in the Diagram below, we can use sentiment analysis to predict a label and a score of a random amazon product review.\n",
    "\n",
    "<center> <img src=\"https://cf-courses-data.s3.us.cloud-object-storage.appdomain.cloud/IBM-GPXX0AIAEN/sent_analysis6.png\" width=\"70%\"> <center>\n",
    "\n",
    "The evaluation metric for this type of analysis is accuracy score. The default model behind \"sentiment-analysis\" pipeline is \"distilbert-base-uncased-finetuned-sst-2-english\" model, pre-trained on a large corpus of English data in a self-supervised fashion. This means it was pre-trained on the raw texts only, with no humans labelling them in any way. For more information on this model read [here.](https://huggingface.co/distilbert-base-uncased-finetuned-sst-2-english?utm_medium=Exinfluencer&utm_source=Exinfluencer&utm_content=000026UJ&utm_term=10006555&utm_id=NA-SkillsNetwork-Channel-SkillsNetworkGuidedProjectsIBMGPXX0AIAEN102-2022-01-01&text=I+like+you.+I+love+you)\n"
   ]
  },
  {
   "cell_type": "markdown",
   "metadata": {
    "id": "bG_mVgHUqJjN"
   },
   "source": [
    "We can start by loading text classification pipeline from `pipeline()` using \"sentiment-analysis\" task identifier. It uses the default, \"distilbert-base-uncased-finetuned-sst-2-english\" model for sentiment analysis. Note, you can skip specifying a default model, but you will recieve a warning message.\n"
   ]
  },
  {
   "cell_type": "code",
   "execution_count": null,
   "metadata": {
    "colab": {
     "base_uri": "https://localhost:8080/",
     "height": 197,
     "referenced_widgets": [
      "66dcb0f8b4d443568db5a15d81c75eec",
      "0c7896a0e2274d799d1cfafe90ce96ee",
      "b9a86e2e558d4c7c8f2111494bdb455b",
      "9b6e64712c51497fb3fcef394150a669",
      "1141e97a9247448eb03e1086d51caab8",
      "c569c3b08d164526b4e948fbb4f3aac8",
      "046fe71b2f934b1da30a21be735a44ca",
      "838a30ac62a74d5dba504f80542ac58b",
      "67de34f7e403408c95c12d07c31610bf",
      "4fd0bb82031f4575a7591665ec28ffc7",
      "274019bedd6244139c88763f95f1df29",
      "84bf866b6bad4216ac1ea4d53ce7cd79",
      "a3906cb27b75454c80edef66099f14bc",
      "1c4e04d64922414bbc0ee2e1f0ebb336",
      "ba18323736234b8bb21311b7f6814412",
      "f1716b14b143468681ff88bc6bc9d7d1",
      "31ca1f2d25ec410d874c520fededcc4e",
      "8637be48984246debe701591498bd97c",
      "94d2fd0237b54e1ea141c5ed22e84aac",
      "2feff0fc74774121838d1143e260be75",
      "567b35ffc6ec4dea86d3ae59554db8b1",
      "b404387ca8964399aee22ec54fdffa3a",
      "1b32bc75d7d44d1cbfd359c654e4129f",
      "3d7503054e6443c0a5c51a03489493fb",
      "799dddc0fd7f4e3dad6c93829f033387",
      "eac250dca75348f9b6f195120dad6429",
      "347d6b5a26ec4238b8ebda722e79210d",
      "521af5d0549d4f8dad547f6df276562f",
      "7142ede5fc2b4461a257a7432407ec69",
      "902fbd7936cc4ddf9a722ae8b2728593",
      "5b51125d0666496197d7484333f7ee42",
      "a4cb83d738014c13911e3188135ee79a",
      "54dc21c1de8a423aafc06d2f5ae2fb26",
      "9ed93ba25d3c4e7c8cd63c902aa8425a",
      "045a32a25e534066a19bd20b5952681c",
      "ade7955a7a2341cc8f2d999c4377878c",
      "d5435ff39fe64badaea82cac14f0a285",
      "19e7637f014a49ecb98f5e7c243332cc",
      "99cb1fd0954f447cabdb7ebd5212f9ad",
      "0be70ec4d0a84eeb90a294b1d85fe5d9",
      "4d93172a8c2b4d489ca68f499a296096",
      "14e9e77bf53d4ee0869a782a53bce713",
      "9e48f901ccde47a1b79c7b2db358e00b",
      "4513b7fd9c3441e0a8e4dd087bbef3e2"
     ]
    },
    "id": "Ylvl6hhqqJjN",
    "outputId": "c3af2530-3371-46be-9149-09b247613817"
   },
   "outputs": [],
   "source": [
    "classifier = pipeline(\"sentiment-analysis\", model=\"distilbert-base-uncased-finetuned-sst-2-english\")\n"
   ]
  },
  {
   "cell_type": "markdown",
   "metadata": {
    "id": "Qn0Oy8CNqJjN"
   },
   "source": [
    "We can copy a random product review from amazon and input it into selected classifier. [Review Source.](https://www.amazon.ca/iRobot-Roomba-Self-Emptying-Robot-Vacuum/dp/B094NYHTMF/ref=sr_1_1_sspa?utm_medium=Exinfluencer&utm_source=Exinfluencer&utm_content=000026UJ&utm_term=10006555&utm_id=NA-SkillsNetwork-Channel-SkillsNetworkGuidedProjectsIBMGPXX0AIAEN102-2022-01-01&crid=2LO2ZA75UKXKQ&keywords=roomba&qid=1663097073&sprefix=roomba%2Caps%2C194&sr=8-1-spons&psc=1#customerReviews)\n"
   ]
  },
  {
   "cell_type": "code",
   "execution_count": null,
   "metadata": {
    "colab": {
     "base_uri": "https://localhost:8080/"
    },
    "id": "LAYQka84qJjN",
    "outputId": "f899f576-a5a2-4abc-9b3f-d2d3196000d9"
   },
   "outputs": [],
   "source": [
    "classifier(\"Having three long haired, heavy shedding dogs at home, I was pretty skeptical that this could hold up to all the hair and dirt they trek in, but this wonderful piece of tech has been nothing short of a godsend for me! \")"
   ]
  },
  {
   "cell_type": "markdown",
   "metadata": {
    "id": "DXH6Yzz5qJjO"
   },
   "source": [
    "As we see, the sentiment is classified as Positive with 99.8% accuracy score.\n"
   ]
  },
  {
   "cell_type": "markdown",
   "metadata": {
    "id": "WWR4BbBOvxaX"
   },
   "source": [
    "---\n",
    "\n",
    "### TODO 1 : Now, do it with your your own word or sentence."
   ]
  },
  {
   "cell_type": "code",
   "execution_count": null,
   "metadata": {
    "colab": {
     "base_uri": "https://localhost:8080/"
    },
    "id": "RjMIEKAZvt5T",
    "outputId": "71ecffac-f343-4ab7-8745-0d38c71f76c7"
   },
   "outputs": [],
   "source": [
    "# TODO :\n",
    "classifier = pipeline(\"sentiment-analysis\", model=\"distilbert-base-uncased-finetuned-sst-2-english\")\n",
    "classifier(\"My biggest weakness is that I'm not consistent in anything I try, whether it's hobbies, routines, or even long-term goals\")"
   ]
  },
  {
   "cell_type": "markdown",
   "metadata": {
    "id": "1HyZelxTvuSf"
   },
   "source": [
    "---"
   ]
  },
  {
   "cell_type": "markdown",
   "metadata": {
    "id": "Z1q2R2FwqJjO"
   },
   "source": [
    "### Example 2 - [Topic Classification](https://huggingface.co/facebook/bart-large-mnli?utm_medium=Exinfluencer&utm_source=Exinfluencer&utm_content=000026UJ&utm_term=10006555&utm_id=NA-SkillsNetwork-Channel-SkillsNetworkGuidedProjectsIBMGPXX0AIAEN102-2022-01-01)\n",
    "\n",
    "\n",
    "**Topic Classification** task classifies sequences into specified class names. It applies \"zero-shot-classification\" algorithm to perform this task. Zero-Shot Learning (ZSL) is when a classifier learns on one set of labels and then evaluates on a different set of labels, the ones that it has never seen before.  [This link](https://joeddav.github.io/blog/2020/05/29/ZSL.html?utm_medium=Exinfluencer&utm_source=Exinfluencer&utm_content=000026UJ&utm_term=10006555&utm_id=NA-SkillsNetwork-Channel-SkillsNetworkGuidedProjectsIBMGPXX0AIAEN102-2022-01-01) has more information about ZSL.\n",
    "As shown in the Diagram below, we also need to specify some kind of descriptor (input labels) for an unseen class (such as a set of visual attributes or simply the class name) in order for our model to be able to predict that class without training data.\n",
    "\n",
    "<center> <img src=\"https://cf-courses-data.s3.us.cloud-object-storage.appdomain.cloud/IBM-GPXX0AIAEN/sent_analysis5.png\" width=\"70%\"> <center>\n",
    "\n",
    "First, we load a pipeline with \"zero-shot-classification\", pass a sequence that we want to classify and a list of candidate labels and see how the model will assign corresponding labels to the input.\n"
   ]
  },
  {
   "cell_type": "code",
   "execution_count": null,
   "metadata": {
    "colab": {
     "base_uri": "https://localhost:8080/",
     "height": 313,
     "referenced_widgets": [
      "a171640baeed4ad08481b6211f946b97",
      "8c8b0e65abc741ad8eded971c61e726b",
      "52bda8dd17c6429cb5fbec6caab1c56d",
      "d6e0e7cfd8d1405da9d949254c156feb",
      "1661bea0eca1408c8c7ac079d6a7b3df",
      "85d2dc2501654e01a1d39b4552225bb5",
      "5ef60596ebb34de491d07421bbdd0c88",
      "11abe31559b9456fbd14f579f4ca8c03",
      "dd10de245f29457b843c9bd5d598e8b6",
      "3c55e57a28df4817b433472144722f19",
      "836eaac5fd844ef3b90e7c8f6ed08c24",
      "c6830be52efd420789addec8909449b4",
      "75a0ba306a9a47e8b10db77ee2c8717b",
      "791ea21870f9495889469a45e3371ee6",
      "e9db5a92f3a2460c89d951c16b6df107",
      "f3c860a8a8b74a3cb91c6bca94ffc8af",
      "02f64fc9a6e9495ea457b0bf998c80c7",
      "5c3b353aa69647f9b3ce12fc294a2663",
      "e8dd2aa2f8a84406b1ceb73650c38648",
      "1f7a95d1d0084b3f932593ec8a7230f6",
      "44e8e8826e8b406cbcec02203dd39b17",
      "e60b368692c049b68d7260017345bf9e",
      "9781dc1f2f88413fb5fe6d9b38729b56",
      "49aee1de535e4cf4a534c10b888c8ed7",
      "9aee0f15e61a45a398ee98a4f65851cc",
      "ffb9670a2b4346cc92195fafae769e20",
      "45d0294ea7d34eea8f8091f253ef19a3",
      "a187973748ba41f3ba9a8730725b2ed8",
      "ce42ad96d7d4420eab0029d3884db602",
      "00d97a44171d4bf4b331773f1e58f558",
      "1ac2844c193349b0b00d400898924923",
      "e3ccd3e0fefa45c8a13c6c11b26ff61b",
      "4f0eeae9ecb64d5ebcccaf97171861d4",
      "16a5e15143aa4c0e9d2508ad3d8d7819",
      "c4fa8bb1422644b9b675fe312c9fadeb",
      "a5692ae6773049f09355292d0babfa98",
      "cc18eabe027d41c9894d64061a186bd0",
      "a13a610309b04008bfe21f71783e12c7",
      "af464b38d7674bd6b7f97f80ad7cc373",
      "fbb44a40f0a74f54b8dc51f62490af90",
      "f5dc79ad478d4f299d201ecc364d5a52",
      "c612379cf2384b3aa437d8feba9c5247",
      "7b6b9b4455b64a57a24e7238dde3157f",
      "d64744f86b6c43f280e86166233f5eda",
      "664fedbff2634156a11451888ca9482e",
      "00f5cf49dfdf46afb90019227b7032d4",
      "934bcf30b6304f208dbea3a965c4f98a",
      "dd57221a224f4747910101114167daa4",
      "866731b7b2ec4bdc861d0ecc385762d8",
      "57f4448ae42e4d989955c90fb4efe455",
      "c256fda2924a4805845bb43118f4c73c",
      "f4f839e62a784524ad86cf37c5a21913",
      "ffe715b4817245fa97fac71b1cb7db1b",
      "892b638edf594c52b018baf1797f9ea0",
      "88200487d4ad4dc0ac1a9721dfc6c6ba",
      "2791237ed53845ceb306785a1a5eedb4",
      "d9080318777a4e56add692a77c014415",
      "0a82ea3aa56942c7899eedf68de41eef",
      "414a1c2bd0d742f99e6f2d8ab0468d44",
      "dfea922da04f4e89a62d7632c5c002bb",
      "6a0db25b82f84c8c9a6200dc4eb71cf9",
      "f39edc7452ca4284ac1e064f59b16dae",
      "9993929f91854e1a8b115f3438bee9f5",
      "f4f570ccab5b4d62bf59e98cd292ca4a",
      "c90120fcc22a472388831e0e84287f41",
      "8d0ad7445fa44a1c855fc95424f141d5"
     ]
    },
    "id": "5vwxBumVqJjO",
    "outputId": "79126a6b-d5fa-4e21-a377-a4283706e329"
   },
   "outputs": [],
   "source": [
    "classifier = pipeline(\"zero-shot-classification\", model=\"facebook/bart-large-mnli\")\n",
    "classifier(\n",
    "    \"Exploratory Data Analysis is the first course in Machine Learning Program that introduces learners to the broad range of Machine Learning concepts, applications, challenges, and solutions, while utilizing interesting real-life datasets\",\n",
    "    candidate_labels=[\"art\", \"natural science\", \"data analysis\"],\n",
    ")"
   ]
  },
  {
   "cell_type": "markdown",
   "metadata": {
    "id": "egohDK79qJjO"
   },
   "source": [
    "As we see, 'data analysis' is the most successful candidate for the topic of this input, having 99.6% score.\n"
   ]
  },
  {
   "cell_type": "markdown",
   "metadata": {
    "id": "U9sAvDQOwt1V"
   },
   "source": [
    "---\n",
    "### TODO 2 : Now, do it with your own word or sentence."
   ]
  },
  {
   "cell_type": "code",
   "execution_count": null,
   "metadata": {
    "colab": {
     "base_uri": "https://localhost:8080/"
    },
    "id": "UWoblc6Ywyhj",
    "outputId": "5d4c7762-1ea5-4976-f8c8-0314df2f9666"
   },
   "outputs": [],
   "source": [
    "# TODO :\n",
    "classifier = pipeline(\"zero-shot-classification\", model=\"facebook/bart-large-mnli\")\n",
    "classifier(\n",
    "    \"I have a strong desire to learn new things, constantly reading books and exploring new computer technologies.\",\n",
    "    candidate_labels=[\"personal strengths\", \"hobbies\", \"career goals\", \"weaknesses\"],\n",
    ")"
   ]
  },
  {
   "cell_type": "markdown",
   "metadata": {
    "id": "bLspd27Cwy_0"
   },
   "source": [
    "---"
   ]
  },
  {
   "cell_type": "markdown",
   "metadata": {
    "id": "EGql724QqJjO"
   },
   "source": [
    "### Example 3 - [Text Generator](https://huggingface.co/tasks/text-generation?utm_medium=Exinfluencer&utm_source=Exinfluencer&utm_content=000026UJ&utm_term=10006555&utm_id=NA-SkillsNetwork-Channel-SkillsNetworkGuidedProjectsIBMGPXX0AIAEN102-2022-01-01)\n",
    "\n",
    "\n",
    "**Text Generation** model is also known as causal language model, is a task of predicting a next word in a sentence, given some previous input. This task is very similar to the auto-correct function we have on our phones. Classification metric cannot be used in this task, as there is no single correct answer. Instead, text distribution auto-completed by the model is evaluated by the cross entropy loss and perplexity. The default model behind Text Generation is Generative Pre-trained Transformer 2, [GPT-2](https://huggingface.co/docs/transformers/model_doc/gpt2?utm_medium=Exinfluencer&utm_source=Exinfluencer&utm_content=000026UJ&utm_term=10006555&utm_id=NA-SkillsNetwork-Channel-SkillsNetworkGuidedProjectsIBMGPXX0AIAEN102-2022-01-01) model. It can receive an input like \"This course will teach you\" and proceed to complete the sentence based on those first words, as shown in the Diagram below.\n",
    "\n",
    "<center> <img src=\"https://cf-courses-data.s3.us.cloud-object-storage.appdomain.cloud/IBM-GPXX0AIAEN/text_gener2.png\" width=\"60%\" alt=\"iris image\"> <center>\n",
    "\n",
    "Similarly to Completion Generation Models, we also have Text-to-Text Models. These models are trained to learn the mapping between a pair of texts (e.g. translation from one language to another). The most popular variants of these models are T5, T0 and BART. Text-to-Text models are trained with multi-tasking capabilities, they can accomplish a wide range of tasks, including summarization, translation, and text classification.\n",
    "\n",
    "Interestingly, causal language models can also be used to generate a code to help programmers in their repetitive coding tasks.\n",
    "\n",
    "To begin our analysis, we can load a pipeline with the default \"text-generation\" model:\n"
   ]
  },
  {
   "cell_type": "code",
   "execution_count": null,
   "metadata": {
    "colab": {
     "base_uri": "https://localhost:8080/",
     "height": 397,
     "referenced_widgets": [
      "7ad1aaa69d764de09c27277e10e3b907",
      "0d9de68577144d6180c24030809b0f30",
      "f6868a6e1c6647e98a85859e67877082",
      "924a2da2866343f89e9c64fb9335a8f9",
      "1070e69b58bf45cf9a0ef64b32f994b3",
      "20ab481754df4837b7f913f9cc785bf0",
      "2c413189ea804efc80766e1e9615c06e",
      "90e14e9c69fc465a9c8a7330c69d6412",
      "9aae896d49f240788a07440997547b89",
      "a4970251fb134e1e8536a08f0853c00c",
      "4735defd82914b299129bba30105bc65",
      "bad75aee7d154d6aa58749cf78809735",
      "2e18e88183eb462697f71df3071df1cd",
      "4673bdccad7d4f5f8d802c9722ef8f40",
      "5deb869ded3b42f3a1632a908aade41d",
      "bee7c0668ab745ab9047d2de0a5b25e1",
      "f5942b2679a24c02aeb95bb86d70ee79",
      "6ba46f4f7e9445228070df93d06e781e",
      "1718db99930f40278f0a2a2df6bf0582",
      "f755cabd87b44269af22dbcf590412e9",
      "fa374dc0bcad42e7a44e3038b7816b0c",
      "968d8dad50154acbb3bcfee78d895c4a",
      "c69379885d7c4e1a88014d77c4cae06e",
      "52ef0bce5c8d4ab5b407255d42cad812",
      "57c597d39295481a92eaac04fcfd7249",
      "f66765fa8b3c4db0a0c2ef96294ab8b9",
      "ee8ff16684224c35b5f967d2ad127ba3",
      "558737ff007d4ece8632e7adfaac67ee",
      "c3fbbdc2752a4f7bb23b697f4f015bc0",
      "aa7eaaa6c5694ed99a5cbb5563329cdb",
      "a7baf3df95a649f3b279486371c640e2",
      "40c22113a8bf4c5a8cddd2a4a265dac7",
      "49a6ea76c67c4650bb2985fdf395ea13",
      "455f2365443f4997b1dbf686037d66dd",
      "d7f19be5f5444526812b9f9ac0879ce1",
      "0349757addb8479d900b5b6338fc7b2e",
      "c04d7a3e6fa847fa8257a992f10854a6",
      "da65718bd86248abaf464c2af8b4c37c",
      "e2b1e5b85a3d453282697220730f99a8",
      "83cecc7e1ee8488eae8d70482f91cf27",
      "6984f19999ee4513a1d5b23af5655db5",
      "ef1674d388ab4d9db7db25874748f384",
      "ac995c0722bc4a8d8e916e1766cd480d",
      "7bc56b58b82541bc9abd3bbe882aab50",
      "c11d20d1b287405bb6332355c3c78239",
      "b3616d5f6e4b4681a83b9b8769b35346",
      "7edef3b40c6d46468b0ff90903f3b202",
      "10c7096e78a447c5b6bf1869d512b513",
      "be7aac52933d4b44b82a94e3c6dd01bc",
      "579cf552c9c945a185c86867d7446f65",
      "71835845fa384819938037b4b8b06766",
      "85f401af9a774b16a1b1df3dfeacf85b",
      "9324b8ea649144cea63710f8f5f403a5",
      "c36811575f1c40e1be9a9ab1a486ddaf",
      "1c3629eb1c424f2b9f2441b4e4b6be3a",
      "dab0bcd233a14170be222fa44b11de25",
      "c2277288126f4168a9a9e05ce5f5ea43",
      "ac6025d58dab47fa85756717cda3a69b",
      "35e64799cdf54b10a5fc075eaf374ba1",
      "4a90e974198b4924972fbfecbcbf799c",
      "4ef4fdcef3a542599c7c30e03ab05ba0",
      "ee820e99f14e402f85187cad1f2c59f4",
      "80ada43a069840468a054928265e712d",
      "38148a91d7eb42eba57883e6f8afcbb9",
      "ec390f17838b42e1af2006ea6d2d67b0",
      "afa2ac4a7a384ec790233f8fdb32c853",
      "ae98369dc9dd4da893b5f16580644bba",
      "ef04ab502eec4aa8801cdbf321f595a9",
      "9997e68caaf14dfcae8fe28d073c62d0",
      "802aaea777964097bbd35b5e2f23845b",
      "501985f389114517af874c1681746e40",
      "b98fe22ef1a044afa824d972503b0fdf",
      "0781796c6879405c84e915a9f52f0118",
      "d1ebc0d416354912a9157c7718d2f803",
      "323ed1280a5542dbae276e9c7d4d8a0f",
      "f5400a56ff4646b28d23228440f2dbe7",
      "14dbb5e4afe24274a2c9dab255df171a"
     ]
    },
    "id": "9usb20olqJjO",
    "outputId": "85671fb2-8141-43c6-fb79-24968e697f30"
   },
   "outputs": [],
   "source": [
    "generator = pipeline(\"text-generation\", model=\"gpt2\")\n",
    "generator(\"This course will teach you\")"
   ]
  },
  {
   "cell_type": "markdown",
   "metadata": {
    "id": "8ULbVXGAqJjO"
   },
   "source": [
    "Alternatively, we can also use \"distilgpt2\" model, as well as some parameters, such length and number of the sentences needed. Distilled GPT-2 model is an English-language model pre-trained with the supervision of the smallest version of GPT-2. Like GPT-2, DistilGPT2 can be used to generate text. For more information about this model, please visit this [link](https://huggingface.co/distilgpt2?utm_medium=Exinfluencer&utm_source=Exinfluencer&utm_content=000026UJ&utm_term=10006555&utm_id=NA-SkillsNetwork-Channel-SkillsNetworkGuidedProjectsIBMGPXX0AIAEN102-2022-01-01).\n"
   ]
  },
  {
   "cell_type": "code",
   "execution_count": null,
   "metadata": {
    "colab": {
     "base_uri": "https://localhost:8080/",
     "height": 487,
     "referenced_widgets": [
      "2ea20ff4617146179489161dd57d0c2c",
      "d07fef2d4cce4c779bd69083058d0c83",
      "21548b521d344d2e8560bff4a371c1b0",
      "cc803d3501a94476a6d635c8fbab6f7c",
      "e428923b6d9e4800a8a5c11db978e2c9",
      "e4053f4a6fad475ea5dbc29bda4a7031",
      "2bf418851c404dc2b7d562f4bb4ed920",
      "e389595c94fc4526a539edc93aea1404",
      "267bec5869e04cb68c56ae96e701d709",
      "99fb32070c464e2aa916b7aeca05a23f",
      "9f30502b358e4e1cabf00181b15dc9b7",
      "be57ac6a0c2b43a5b6a24e600571cd8a",
      "4be3e228e0b54b9eaa9d78261546a324",
      "968f2418087a46b9b7651346654854a8",
      "41354096c8bc410db5001b8205b0314c",
      "079e61d14d8b4a6d89f45c65f351107d",
      "d7deb4fe2b9840b8af39355cd604883a",
      "be9d61cf3aee4f63a38139076c6fd1f2",
      "7736e1ebd8d74dcb8512521ff3020ce9",
      "2419f1605ecf46dd854269ba4f04ebea",
      "0ba45211994948278df4ba04c7aab4fc",
      "82e09ca579654d94bf2f4bc58b8619aa",
      "350265ff3a974f9f80a5da27f618822a",
      "44e3ee5183b645a79b756d0e9f92bc29",
      "f43139144e9e4d6e9cdb7b41993c695a",
      "7b916caa96034524aa2ee8d6f11eab85",
      "5e5ed2c45c5043d8ba105604c6012ab0",
      "d321b9b87be04087b63d1fedac6e757b",
      "067f9c93fa20469d8bc4f57ac3070a81",
      "b26b8b7c5b404307976ef5944981e5b4",
      "c9b986be9a494a008fe87bdf14686c12",
      "3988420b6bb740708503140040cf58b2",
      "d4fdae3663974a5eb3df6d342c2b5b6f",
      "3f75e7f54c374369ae28761171315828",
      "8a473ea939594546b0ded6678aa576d3",
      "cfef2204755844f2b522c6de33efb1c4",
      "df9c9cd618f44ca0a29a17edb3fb88bd",
      "2724049208344615a45a916d62dfeff9",
      "ede26c721ab44269a399c39dce436e98",
      "a35c2301fc4646fbbf6a4586219235b7",
      "c8db1959622742dd85832c22d6cbdb4e",
      "483a84f6aa4a4307b4303f989629465e",
      "762aea1fc7ad43e0827424d6828e3d89",
      "1271e22dba714e8cb3c34580ddcceec2",
      "5870e778917847b79aaca3a566a94ea2",
      "564f47975c0c43d3b30e7f38c0b5b73c",
      "d475d8bd0c004eb9bfca2d829321271d",
      "86b70bf622464c1d9f54c7060a939eda",
      "f3d856b7565a415cbf4db847dc7c90fd",
      "9f397c4dc8174f69b2ee3482d755cb54",
      "567301180db841cebd86306c22b4d14a",
      "4c15f98622ac4a90bb6d44bcbcc3598a",
      "ab5af98f1f5b4fd4909fa986f5880cc9",
      "512aa6dd85a64347a80592ad1722c630",
      "981bd35b5278473e8bf21b0a1da80b76",
      "3731ed022c2f49328d63126072af9be3",
      "0d0c2c79935f4722bc8d11249657fb36",
      "8ab728067420449dbab031d6a91450d0",
      "2cb345ca7ef04508a6994350ea3936e9",
      "5e09ed52154745f99ebae1aa3f0dbb96",
      "722648c08f4241399cf9e7b2e06412b5",
      "4ba687fdf8904551ba31e6432c9dc9c5",
      "5aeda51a493445adb10d80ea72deda1e",
      "66227c2c9dfb4752b0816c34bc15eeba",
      "902b2a7831c1474996a91db14c4cdb8a",
      "4badeda337984b69b72d15a66e30cd8d",
      "74ff77c8ba134dacb064eb46b9241a0c",
      "e52e2a039b9c4f0fa2e44034816a9874",
      "284a1fa4e1cb4a6ea39bdbc15e192c91",
      "4a3aeb6e771c476c82786f7e56e75c66",
      "4b023ddb24d54bdcbee3d46ddcc61bdb",
      "758f3beac5f642ebb73bbcc1f6fc953c",
      "cca5eb5d8ebd4916bf2b5a6b635562eb",
      "4b3fd95d874044a39e35252439b2ad20",
      "7d9e4c9030584b089e0060749521b87e",
      "1ffe9df8e55240a9bd4b7902a3f4f457",
      "9e522b48663e4dfbadd6fea6c0612571"
     ]
    },
    "id": "RRYSkVieqJjS",
    "outputId": "1270ce1b-5f4e-4fd0-9d24-89f25caee0d6"
   },
   "outputs": [],
   "source": [
    "generator = pipeline(\"text-generation\", model=\"distilgpt2\")\n",
    "generator(\n",
    "    \"This course will teach you\",\n",
    "    max_length=30,\n",
    "    num_return_sequences=2,\n",
    ")"
   ]
  },
  {
   "cell_type": "markdown",
   "metadata": {
    "id": "2ojyej0JxZFl"
   },
   "source": [
    "---\n",
    "### TODO 3 : Now, do it with your own word or sentence to be completed by the model\n",
    "\n",
    "> To minimize error, use at least 10-15 words in one sentence, then end it so the model can complete it."
   ]
  },
  {
   "cell_type": "code",
   "execution_count": null,
   "metadata": {
    "colab": {
     "base_uri": "https://localhost:8080/"
    },
    "id": "AwcJRG-rxhZ8",
    "outputId": "899c946c-1c47-4a36-c15b-adc918c1d739"
   },
   "outputs": [],
   "source": [
    "# TODO :\n",
    "generator = pipeline(\"text-generation\", model=\"distilgpt2\")\n",
    "generator(\n",
    "    \"In a world shrouded by darkness and despair, there walked a lone black swordsman named Guts. His colossal blade, Dragonslayer, was as heavy as the endless suffering he carried, a grim testament to the battles he had endured since childhood. Every swing was a cry, every step a burden, yet he pressed on, driven by a raw, unyielding rage against\",\n",
    "    max_length=100,\n",
    "    num_return_sequences=2,\n",
    ")"
   ]
  },
  {
   "cell_type": "markdown",
   "metadata": {
    "id": "a5h-PSQ5yMnx"
   },
   "source": [
    "---"
   ]
  },
  {
   "cell_type": "markdown",
   "metadata": {
    "id": "eZRTH9PWqJjS"
   },
   "source": [
    "#### Masked Language Modeling\n",
    "\n",
    "\n",
    "Sometimes, it is useful to use Masked Language modeling, which also has Text Generation capabilities. **Masked language** modeling is the task of masking some of the words in a sentence and predicting which words should replace those masks. These models are useful when we want to get a statistical understanding of the language in which the model is trained in. Masked language models do not require labelled data! They are trained by masking a couple of words in sentences and the model is expected to guess the masked word. The Diagram below shows a simple representation of this concept.\n",
    "\n",
    "<center> <img src=\"https://cf-courses-data.s3.us.cloud-object-storage.appdomain.cloud/IBM-GPXX0AIAEN/fill_mask3.png\" width=\"60%\" alt=\"iris image\"> <center>\n",
    "\n",
    "For example, masked language modeling is used to train large models for domain-specific problems. If you have to work on a domain-specific task, such as retrieving information from medical research papers, you can train a masked language model using those papers.\n",
    "\n",
    "For more information about \"fill-mask\" model you can read [here.](https://huggingface.co/tasks/fill-mask?utm_medium=Exinfluencer&utm_source=Exinfluencer&utm_content=000026UJ&utm_term=10006555&utm_id=NA-SkillsNetwork-Channel-SkillsNetworkGuidedProjectsIBMGPXX0AIAEN102-2022-01-01)\n",
    "The Example below, shows a few options for a 'masked' word in the input sentence. Let's see 4 options in the output.\n"
   ]
  },
  {
   "cell_type": "code",
   "execution_count": null,
   "metadata": {
    "colab": {
     "base_uri": "https://localhost:8080/",
     "height": 591,
     "referenced_widgets": [
      "c806ec847a9947a1b478ff5b75d8d210",
      "7cf7a77e06524bf6bd71fdc474f76fef",
      "29856610630d4a388e7ff03616762763",
      "25c4df0fb13e4aca972b81d3e4cf196c",
      "2baf348665dd463aa13453c41afa69e2",
      "fbc71098c56047e196760b4e99cb7983",
      "23ef1963b31d4f1ba115c3ca7ad1a0ef",
      "ddff760e892f455d8715fb2444ac9251",
      "f1b02cd189cc47f5aa2c89520b123859",
      "394b154c9e9d44fe9f7578edfe9c6fb5",
      "0b5b2d6885cd45039e6d2f280cd9d4f4",
      "b60ab49b49c4486294f8e514fef2823e",
      "19bedb7af0634eb2a700d1ff7e382135",
      "1d471e582647497bbab06c01d6c7584a",
      "0e1b94351881454a82b6a1366868c91e",
      "54b7cb82f5384eeeb59550116c690f62",
      "f7d844cfc98642a59044ea111531f6ec",
      "e1ab2562107545c8bb751cfa37f5fbf4",
      "44d974bf7dc84bada95f008239eb2f05",
      "94147e623e794de8b397a40a8b6f907a",
      "d38d32c425894316bfe41091375cde9a",
      "62b297a3bebf4831967173f7c0f842a5",
      "bf380a8e518d48d3882aeb86a0c8a101",
      "01049361e2044b07b89843ea6bab2083",
      "5cb6552440804a51adcecaf20141d42a",
      "cbcd3913b2344d26b97860383bbe16cb",
      "8cfa0b19e2e44689bd42f45665d08169",
      "abf699238a714c18a0f636fc2c937726",
      "0499c9ad06b04689aa8a2831538ca785",
      "5e85a46a13134a40ae5eed62f161bb93",
      "9b532cc7f8094fcc8f7d3850e20ff0f3",
      "1d02abc760944e469abaccf859a4bf44",
      "00c83c03014743d986ec9acdcedbea7c",
      "4108110533bd4d3892c26c325a336000",
      "a327b8706ba143a796563ec64a23b446",
      "7c718a5549cd471880f5e278fa078969",
      "12fdb9b2aa9641f4a8c7246b04f2d667",
      "8aa723fdd252420997a480dd2f159d04",
      "5ea2e72cf7944621ab29f2d0270b557b",
      "61376e49aa84484bb64fb2e48dd94b5a",
      "8e2a74db427942d2ba7279c7c7ee1fe4",
      "e5e626704227412a889e1558b4027c2a",
      "7d61224eb4d54bdeb4bc3f3324449d2d",
      "89d67d9dc3c044a4810a7baf3a0a4bc7",
      "b3cf479f85594de89f9af5fd76e123ef",
      "0d5c12f098004c01a2c13f826dbc2eeb",
      "e6cbc96f7df74692a59b1f94e61d0441",
      "53b5fd8642584b1d8d9f07a3f6035e0b",
      "ba7c1ecde30d43ad9c2a68148c4ce0d5",
      "dba6dab237d244b0b7304cea0c07fa62",
      "37270cbe6b7949fc8db7762858d12fb3",
      "8b23c30bf76446c28c8e2b59fabb0acd",
      "f318780b5e1844079b9f37a1d9e48b8c",
      "88c8cf7dea38476eac27e5806b39718b",
      "ca7661573a874142b6d65131f899c8a3",
      "7bc4096f190d49c79da6f0d02c3be594",
      "257c882e201b43c78841a01d6aa2db47",
      "806a42fdd1b74d76b4936983dad4624a",
      "e00d8f0edd07465c9e49cf9b1b84213f",
      "cc56c1fdaff3434aa4da5630b27c1909",
      "a1e311f9f5364ab697c0d4e5919465f3",
      "ea5a523b9e7749c6bcbef7a5a56eebc0",
      "406eb62fec2d427c8ea4ba2e90e317ed",
      "94fce2d44fa34396be8ab0d28ce1228f",
      "abe6556181a7472d9a3f4100504fdadf",
      "92720ca743f4494bac81233b94bf94c3"
     ]
    },
    "id": "uT5KYshLqJjS",
    "outputId": "1c76f195-0d90-40c1-bf14-400faec93795"
   },
   "outputs": [],
   "source": [
    "unmasker = pipeline(\"fill-mask\", \"distilroberta-base\")\n",
    "unmasker(\"This course will teach you all about <mask> models.\", top_k=4)"
   ]
  },
  {
   "cell_type": "markdown",
   "metadata": {
    "id": "wdKbFawKyKrl"
   },
   "source": [
    "---\n",
    "### TODO 3.5 : Now, do it with your own masked word or sentence to be predicted by the model."
   ]
  },
  {
   "cell_type": "code",
   "execution_count": null,
   "metadata": {
    "colab": {
     "base_uri": "https://localhost:8080/"
    },
    "id": "FUqZPvd6yZNa",
    "outputId": "e2407fda-321b-4958-d378-d105ef926ed1"
   },
   "outputs": [],
   "source": [
    "#todo\n",
    "unmasker = pipeline(\"fill-mask\", \"distilroberta-base\")\n",
    "unmasker(\"Guts, the black swordsman, always carried his colossal blade, the <mask>.\", top_k=4)"
   ]
  },
  {
   "cell_type": "markdown",
   "metadata": {
    "id": "6L_aKed3ybuz"
   },
   "source": [
    "---"
   ]
  },
  {
   "cell_type": "markdown",
   "metadata": {
    "id": "qCk5iVYmqJjS"
   },
   "source": [
    "### Example 4 - [Name Entity Recognition (NER)](https://huggingface.co/Jean-Baptiste/camembert-ner?utm_medium=Exinfluencer&utm_source=Exinfluencer&utm_content=000026UJ&utm_term=10006555&utm_id=NA-SkillsNetwork-Channel-SkillsNetworkGuidedProjectsIBMGPXX0AIAEN102-2022-01-01)\n",
    "\n",
    "\n",
    "**NER** sometimes also referred as entity chunking, extraction, or identification, is the task of identifying and categorizing key information (entities) in text. The model sorts according to name of the person: 'PER', group: 'ORG', and location: 'LOC' with appropriate accuracy score and token location.\n",
    "\n",
    "The default model behind NER is \"camembert-ner\". It was trained and fine tuned on wikiner-fr dataset (~170 634 sentences). Click [here](https://medium.com/mysuperai/what-is-named-entity-recognition-ner-and-how-can-i-use-it-2b68cf6f545d?utm_medium=Exinfluencer&utm_source=Exinfluencer&utm_content=000026UJ&utm_term=10006555&utm_id=NA-SkillsNetwork-Channel-SkillsNetworkGuidedProjectsIBMGPXX0AIAEN102-2022-01-01) to learn more about NER.\n",
    "\n",
    "<center> <img src=\"https://cf-courses-data.s3.us.cloud-object-storage.appdomain.cloud/IBM-GPXX0AIAEN/ner2.png\" width=\"60%\" alt=\"iris image\"> <center>\n",
    "\n",
    "Let's look at the specific Example, where we load a pipeline with \"ner\" model and some input:\n"
   ]
  },
  {
   "cell_type": "code",
   "execution_count": null,
   "metadata": {
    "colab": {
     "base_uri": "https://localhost:8080/",
     "height": 510,
     "referenced_widgets": [
      "4af5ba6b2a234943bfdf6ef5242756e9",
      "bdfe9905e73d42a1a082ab1a08c9bae3",
      "2aa0116767604c3ba989951f2bc27dd7",
      "8cff52d92e4d4166be8472cb15b52161",
      "d1e631c4b56f41e7bfe42e590b5263db",
      "93b58c54b06b46f38d17852e0f8e4375",
      "e0724571f03c4005971c8eb23fddb0b3",
      "274c18376fe144229a465e3491e7a471",
      "5a3935befcb94d359a59d3666da9f540",
      "fa70a4a39cfa4515be75e4670dfb6133",
      "52f60d0e9d084e47b737f9a9571b9d34",
      "6a92a9fd77e443de8e729f79508955cb",
      "cb72ef5ed0a54125b9a8179785e62176",
      "7a5501d5a6a1401e930f7dc3009d1566",
      "f2cc8c77d48a4e7a8125524ed12a430e",
      "f286d11125044fbbb6e22d8716d0c7d4",
      "4f24a67557ba408f92bc1c96a69dea2f",
      "bcefadb8fcc2457e9c3fc3da059eabbb",
      "efa27ea967014e8db9bc2ebf0aeb41e1",
      "56db966a3a284ffca7306053fbeffe56",
      "1510e3e0b30e445a8ab12cfbae42b5c0",
      "9c17ef063a324c42aa39dca660fe5881",
      "e3422145db784d52af9c5a4861eba02e",
      "f45e3c6d8d6a4d11938e671b48d91c0a",
      "2aa47cb9331142d98f68c86c33c722ff",
      "f49eeac930f74caf94ed52c41c8442df",
      "0d6c2118a8714c43bb1d4d0f5eb907c9",
      "95b60a8067284f7cbee528d281da01cd",
      "2e1810cab6c349a78c20117f4f9d2dd0",
      "a9325eae134a4f0e8896600bbb438e01",
      "2ae105aee0434afd8a16abd6618df7ac",
      "1820de9c29cb40e3a5b925a3eda8cf4d",
      "318ef954b78448d3b8ee07bd9aac7cbe",
      "7a0c39742f564e25894cd9aa66ff011b",
      "6e186c1155dd4b41a174b7577461bcc4",
      "95ab2b80b6614431b8c4d36fd1486e10",
      "ca1a04fd5d8c4ec3873e9ae6ada7dc92",
      "b08c664908f1474ab9ebe1c2e251398f",
      "d030348681024b2688718411862ba876",
      "56d03e0bdd1441d09fcd631a2a68d706",
      "7cf143d4aa524d609d19d7ae159b9a90",
      "7119a39d43a441b9b7656b8dee1d4222",
      "996aa79972ab423fbee88c670b37f448",
      "09d65320abed4403a55d4c08df4e70f3"
     ]
    },
    "id": "kQdEITHeqJjS",
    "outputId": "e037e344-136c-4f14-d0de-bab0e4298c7b"
   },
   "outputs": [],
   "source": [
    "ner = pipeline(\"ner\", model=\"dbmdz/bert-large-cased-finetuned-conll03-english\", grouped_entities=True)\n",
    "ner(\"My name is Roberta and I work with IBM Skills Network in Toronto\")\n"
   ]
  },
  {
   "cell_type": "code",
   "execution_count": null,
   "metadata": {
    "id": "T80YVyUBqJjS"
   },
   "outputs": [],
   "source": [
    "del ner"
   ]
  },
  {
   "cell_type": "markdown",
   "metadata": {
    "id": "n89Jg6WKyzMf"
   },
   "source": [
    "---\n",
    "### TODO 4 : Now, do it with your own word or sentence to be NER-ed by the model."
   ]
  },
  {
   "cell_type": "code",
   "execution_count": null,
   "metadata": {
    "colab": {
     "base_uri": "https://localhost:8080/"
    },
    "id": "KvrK_PRMy2CP",
    "outputId": "112dee98-0e80-4d6e-f28c-51e8e55abfd7"
   },
   "outputs": [],
   "source": [
    "#todo\n",
    "ner = pipeline(\"ner\", model=\"dbmdz/bert-large-cased-finetuned-conll03-english\", grouped_entities=True)\n",
    "ner(\"Joko Widodo, commonly known as Jokowi, is the current president of Indonesia.\")"
   ]
  },
  {
   "cell_type": "markdown",
   "metadata": {
    "id": "ohW88jy0y2SC"
   },
   "source": [
    "---"
   ]
  },
  {
   "cell_type": "markdown",
   "metadata": {
    "id": "NPCaVZ7vqJjT"
   },
   "source": [
    "As we see, the model properly identifies all entities in the sentence with highest confidence scores.\n"
   ]
  },
  {
   "cell_type": "markdown",
   "metadata": {
    "id": "JsJKQrbLqJjT"
   },
   "source": [
    "### Example 5 - [Question Answering](https://huggingface.co/tasks/question-answering?utm_medium=Exinfluencer&utm_source=Exinfluencer&utm_content=000026UJ&utm_term=10006555&utm_id=NA-SkillsNetwork-Channel-SkillsNetworkGuidedProjectsIBMGPXX0AIAEN102-2022-01-01)\n",
    "\n",
    "\n",
    "Another widely used application of Hugging Face transformers is Question Answering task. **Question Answering** is the task of extracting an answer from a document. QA models take in a context parameter, which is a document in which you are searching for some information, and a question, and return an answer. The answer is being extracted, not generated. The task is evaluated on two metrics: exact match and F1-score.\n",
    "As discussed in Example 3, there are also other QA models that are not extractive but generative. They generate free text directly based on the context, as shown in the Diagram below.\n",
    "\n",
    "<center> <img src=\"https://cf-courses-data.s3.us.cloud-object-storage.appdomain.cloud/IBM-GPXX0AIAEN/q_a1.png\" width=\"60%\"> <center>\n",
    "\n",
    "Let's look at the Example where we have some context and we try to extract some information from it.\n",
    "First, we load the `pipeline()` with \"question-answering\" identifier. We also input our question and content. Then we apply our model to the input.\n"
   ]
  },
  {
   "cell_type": "code",
   "execution_count": null,
   "metadata": {
    "colab": {
     "base_uri": "https://localhost:8080/",
     "height": 246,
     "referenced_widgets": [
      "b6fecfe261aa4e09b3aaf573d871b62e",
      "745f51d1de65480ca7887a38924ce5b8",
      "321e9e172b4949289ea27a3d69ff3b39",
      "0d410f70c7bb4f67a41b013a02f8395c",
      "fa90435072db47c9ac962b6d6d21624a",
      "3c3109c8e4fc4559ae36af3d99de2f64",
      "9a7f9f25c89942ffae1dbb82665679d2",
      "0dcaf0313def48fda4ba2d444b4a94f5",
      "8c6251aeb63548058ee28ab7997e7d37",
      "501cc3759b354717920c9b7fac14d4c6",
      "b367e4840c4044fa91b39f927283d005",
      "0ca9e6fd538044df9c2a28059db4876d",
      "b5bbd5e5f9db446a948272b59151f903",
      "0f1f073e68704786bacd3a55c5066492",
      "e0cc7e0695f24518976f79841044fddb",
      "b6f2013493464714b1db4b37678a6be9",
      "ce1c1098a25f4dd083356ae2b3254db8",
      "9be1a9e48931412aac4dac4527316764",
      "0096c275dae04457a400c328c5fe577c",
      "17219f0fdce24dffb6c163bf077c7462",
      "256e645f67bf4df7bc2702ec09469a1f",
      "abff56e732af4950a320ae596f813057",
      "93707d0d428a415a9fa0e20895a4a1a9",
      "0b01edfdc8b546388a14c2ec171987d3",
      "ec5a32489d894dfdb5e3f0c00923e164",
      "b036584032714dc99dbe73ba6ac7d36c",
      "b8b7a90780444d58bad243cecf5ceac8",
      "3de5a2514d3540c081ce1db70a0e109d",
      "18f8321a55ae4d0fbd4fbdff38ea98da",
      "2ae63bb9205443629e3562a8af7b1ac5",
      "aef79756c2004ae2a2928ddf3eb27e1a",
      "0f2ce654c1d94a999e1673fe9e0c774c",
      "ea2599eb2f594f59885f856b5c7244e0",
      "55327154cdb9483bbf710ea9ad4759a2",
      "1ad31784654f4fed81b3cf3b1f45e592",
      "21b8bf7754d84388a4bb2d9e31534c49",
      "a4004f65899641bea4d12510ec2f487b",
      "8e6d6ca057494b2eb5f532cc3c4e53d0",
      "2615f8f339034eda9f57e72c980ca5b1",
      "3759954c45304d7ca566c560c506f2e8",
      "d343203588874b02bc339505a57bd39f",
      "f49311c95c894a1d818967cbee45fa8e",
      "5352ba42911641fa98e8f703f2d8d74c",
      "16c77a1b05954699ac183699b6801924",
      "82a65f10fa374c198261c8f558c7f2e1",
      "d118ab8da9dd4d34a9d96440f794b08d",
      "52b78903c18d4397b2b264abd36148e8",
      "d071f983f6df42f2919d622483c3fd44",
      "a845563cabd744628170396cf7cb2ba6",
      "36fc72719fc34b80b89c41663d79ddb7",
      "1345cd48d45a456292664509d2916319",
      "18d7e698218d4ddcac6861b2e720993a",
      "f07676a4eccc4c038d9ffe71698e6b64",
      "1499a781f358481da6e41415e5eb7e56",
      "f68f7004062d4b1383efd3f8b1390ef5"
     ]
    },
    "id": "24RLaXKxqJjT",
    "outputId": "db584f2b-48fc-4b4a-ce60-3e36ef492fd0"
   },
   "outputs": [],
   "source": [
    "qa_model = pipeline(\"question-answering\", model=\"distilbert-base-cased-distilled-squad\")\n",
    "question = \"Which name is also used to describe the Amazon rainforest in English?\"\n",
    "context = \"The Amazon rainforest, also known in English as Amazonia or the Amazon Jungle.\"\n",
    "qa_model(question = question, context = context)"
   ]
  },
  {
   "cell_type": "markdown",
   "metadata": {
    "id": "1mqJtq7kqJjT"
   },
   "source": [
    "As we see, the correct answer has been extracted with 82% confidence score.\n"
   ]
  },
  {
   "cell_type": "markdown",
   "metadata": {
    "id": "F-iIXRyCz_-S"
   },
   "source": [
    "---\n",
    "### TODO 5 : Make your own question and context so the model can answer the question. Use English only."
   ]
  },
  {
   "cell_type": "code",
   "execution_count": null,
   "metadata": {
    "colab": {
     "base_uri": "https://localhost:8080/"
    },
    "id": "QvCJ3c_-0H9S",
    "outputId": "57d802e5-4775-4770-db65-b6808e63ba87"
   },
   "outputs": [],
   "source": [
    "#todo\n",
    "question = \"When did Japan launch a full-scale invasion of China?\"\n",
    "context = \"The expansion of the Japanese Empire in Asia began in the late 19th century, but the full-scale invasion of China, marking the start of the Second Sino-Japanese War, occurred in 1937. Japan then continued its expansion into other parts of Southeast Asia during World War II, including the Philippines, Indonesia, Malaya, and Burma.\"\n",
    "\n",
    "qa_model(question = question, context = context)"
   ]
  },
  {
   "cell_type": "markdown",
   "metadata": {
    "id": "u_6B-EsT0nMR"
   },
   "source": [
    "---"
   ]
  },
  {
   "cell_type": "markdown",
   "metadata": {
    "id": "Xn9lzUZAqJjT"
   },
   "source": [
    "### Example 6: [Text Summarization](https://huggingface.co/tasks/summarization?utm_medium=Exinfluencer&utm_source=Exinfluencer&utm_content=000026UJ&utm_term=10006555&utm_id=NA-SkillsNetwork-Channel-SkillsNetworkGuidedProjectsIBMGPXX0AIAEN102-2022-01-01)\n",
    "\n",
    "\n",
    "The next Example of this Guided Project deals with Text Summarization. **Text Summarization** is the task of creating a shorter version of a document, while preserving the relevant information and importance of the original document. The summarizer model takes in the whole document as input and outputs the summarized version. The evaluation metric used in this analysis is called Rouge. It is a benchmark based on the shared sabsequent tokens between the produced sequence and the original document.\n",
    "\n",
    "<center> <img src=\"https://cf-courses-data.s3.us.cloud-object-storage.appdomain.cloud/IBM-GPXX0AIAEN/summarization.png\" width=\"60%\"> <center>\n",
    "\n",
    "Let's load the \"summarization\" pipeline, input some text that we want to summarize, and see what the output will look like.\n"
   ]
  },
  {
   "cell_type": "code",
   "execution_count": null,
   "metadata": {
    "colab": {
     "base_uri": "https://localhost:8080/",
     "height": 261,
     "referenced_widgets": [
      "c160ae887bcb4dd197084fe838acf7aa",
      "c390cd8011974c3692297f30479fc7a6",
      "1de78489f7724aec88233f0b25b49951",
      "7e30eeebdd34454fb3889fc28ea5e047",
      "82289293f82644ebb02748585a2ecd6d",
      "77e3022f18854f858392f84056d2ecfd",
      "511eba1127e2475abfa16e70524d5ce1",
      "81125a0409c643ebabcf37af54417511",
      "7cd63ff16dee48f680de11a14de82e38",
      "37c47e719b334e98b46fdeae8d679738",
      "e4cac64edd3445f58d9f507b4d5b6b4c",
      "833f90361444433c9133f0a19f6c63c5",
      "cae40d87ae114fd9acb0ba8afecc0472",
      "d779a08adf6e4760b4795d1da4aca838",
      "57f1319cf98d465287a6e5a1534c38e7",
      "931a27ea12754577bf733999fe191d25",
      "96a495224acf4826b62ddaef973b80fb",
      "629ccd745abb44c9b6f6dd9ac194b7de",
      "7be07843d5644d89b6e6a1ed6d5cccd9",
      "b557f9a131fa480a97b949f050ad0e65",
      "6750357059f64cd9ab05c46057b48feb",
      "fec1a168216d486e8055977cbe432740",
      "7df8a4f75d18401aa7d91b08998208bf",
      "f62d249bae684f1e96336628ad85b6b4",
      "fc51d1c04fe94083927b7e15635be022",
      "d84ffe23fd304bee8608bd66c6b7ca6a",
      "4e97f155fed14725b8e3636ae7feaf47",
      "2768aa2b97fe4d18b694ff72ad739d21",
      "a044f6c446cf45dc9ec9d676c35612f8",
      "8567c8c050f24be581cb00e79d072605",
      "eae6f44a87d347198d64087766eee54c",
      "09033e9630d3457fa3ba766da98264dd",
      "ee5786c5124f4e8288453a02294880c6",
      "0ca919f340734e3b9c0391cab76a04f8",
      "613756e360644a22aad838cc39cd3409",
      "5b1be01533a64e5093f91bbcfda00f70",
      "9b160cb629934e1d8eb6fbc7f69bac1f",
      "43e335989fef40f791e5288003693876",
      "765490f7032e43f0b12d1638a1fd5296",
      "877250beac0d4b0c9797d029139ac4c8",
      "a5e5cce4ed694532927a9b23ff3cbbf0",
      "3a9db395c7e642a3a5429297ecc4c3ea",
      "4dd74836231f42c88ef2f5e04bcab792",
      "fa0572ad7166490ca06e3b07ddcacf31",
      "6d06e79082a34e9f85e1f469da9674eb",
      "a4dbce9af43e4a7a87183fcab2cfaf3e",
      "85226f1181354e349ba2365b88bf008f",
      "e9ea2fe46f3e43459ca6a80abf580d08",
      "e6a9bb8b7769423fa0815d24e6dcc64d",
      "84f7e6fa452345188fd6c0c984f859c3",
      "5aa920e03c4243028cdead2ed1b4b9ce",
      "bb783c2af91447b9bde2504915b17134",
      "e16aba7bc45c4f80897fffe53e2cdfa3",
      "973ca1b116ec4cbbbaadc59489f3cc8e",
      "2eb7e31f5a124db1976abda63d028054",
      "d39c78a8f0904f5e892f02b5fcec5b22",
      "2f2131a9ae5d430da6107b12774888fb",
      "c0368fe69f084f5b8b21e78954a71638",
      "a45c2cf5d00f48a1b1869fa22cb91d9f",
      "882b6e4c9e5a457eac7054057ef914b3",
      "5299b103729d4f22b7fa9709b0fced76",
      "7ff49533a70545c29638e56d286c9661",
      "cf433365bd704da9b57af8b9628b2a20",
      "d5805dfe05d04dd880565d0763556d1c",
      "59ee9ff0a3ed4df3aa5792a5add8481b",
      "77ea8af3333243bcbd66d2e309a4a0e9"
     ]
    },
    "id": "VkCdEW1bqJjT",
    "outputId": "f01d3004-9392-4f17-ce02-a8535ff13490"
   },
   "outputs": [],
   "source": [
    "summarizer = pipeline(\"summarization\", model=\"sshleifer/distilbart-cnn-12-6\")\n",
    "summarizer(\n",
    "    \"\"\"\n",
    "Exploratory Data Analysis is the first course in Machine Learning Program that introduces learners to the broad range of Machine Learning concepts, applications, challenges, and solutions, while utilizing interesting real-life datasets. So, what is EDA and why is it important to perform it before we dive into any analysis?\n",
    "EDA is a visual and statistical process that allows us to take a glimpse into the data before the analysis. It lets us test the assumptions that we might have about the data, proving or disproving our prior believes and biases. It lays foundation for the analysis, so our results go along with our expectations. In a way, it’s a quality check for our predictions.\n",
    "As any data scientist would agree, the most challenging part in any data analysis is to obtain a good quality data to work with. Nothing is served to us on a silver plate, data comes in different shapes and formats. It can be structured and unstructured, it may contain errors or be biased, it may have missing fields, it can have different formats than what an untrained eye would perceive. For example, when we import some data, very often it would contain a time stamp. To a human it is understandable format that can interpreted. But to a machine, it is not interpretable, so it needs to be told what that means, the data needs to be transformed into simple numbers first. There are also different date-time conventions depending on a country (i.e., Canadian versus USA), metric versus imperial systems, and many other data features that need to be recognized before we start doing the analysis. Therefore, the first step before performing any analysis – is get really aquatinted with your data!\n",
    "This course will teach you to ‘see’ and to ‘feel’ the data as well as to transform it into analysis-ready format. It is introductory level course, so no prior knowledge is required, and it is a good starting point if you are interested in getting into the world of Machine Learning. The only thing that is needed is some computer with internet, your curiosity and eagerness to learn and to apply acquired knowledge.  If you live in Canada, you might be interested about gasoline prices in different cities or if you are an insurance actuary you need to analyze the financial risks that you will take based on your clients information. Whatever is the case, you will be able to do your own analysis, and confirm or disprove some of the existing information.\n",
    "The course contains videos and reading materials, as well as well as a lot of interactive practice labs that learners can explore and apply the skills learned. It will allow you to use Python language in Jupyter Notebook, a cloud-based skills network environment that is pre-set for you with all available to be downloaded packages and libraries. It will introduce you to the most common visualization libraries such as Pandas, Seaborn, and Matplotlib to demonstrate various EDA techniques with some real-life datasets.\n",
    "\n",
    "\"\"\"\n",
    ")"
   ]
  },
  {
   "cell_type": "code",
   "execution_count": null,
   "metadata": {
    "id": "K2L3ccvAqJjT"
   },
   "outputs": [],
   "source": [
    "del summarizer"
   ]
  },
  {
   "cell_type": "markdown",
   "metadata": {
    "id": "C1nqA8kf1Pmz"
   },
   "source": [
    "---\n",
    "### TODO 6 : Make your own sentence, make it 140 words, in English or Indonesian, then summary it with the model."
   ]
  },
  {
   "cell_type": "code",
   "execution_count": null,
   "metadata": {
    "colab": {
     "base_uri": "https://localhost:8080/"
    },
    "id": "ELXoHWMm1P36",
    "outputId": "4882c886-ae39-4e50-df93-5242dd647847"
   },
   "outputs": [],
   "source": [
    "#todo\n",
    "summarizer = pipeline(\"summarization\", model=\"sshleifer/distilbart-cnn-12-6\")\n",
    "summarizer(\n",
    "    \"The rapid advancements in artificial intelligence are reshaping various industries and aspects of daily life. From automating repetitive tasks to enabling complex data analysis, AI is proving to be a transformative force. However, its widespread adoption also brings forth significant ethical considerations, including concerns about job displacement, privacy, and bias in algorithms. Experts are calling for a balanced approach that leverages AI's potential for progress while establishing robust frameworks to mitigate its risks. Educational institutions are also adapting, introducing new curricula to prepare future generations for a world increasingly influenced by intelligent machines. The debate continues on how to best harness AI's power for the benefit of humanity without compromising fundamental societal values.\",\n",
    ")"
   ]
  },
  {
   "cell_type": "markdown",
   "metadata": {
    "id": "RiO7YWKw1m7e"
   },
   "source": [
    "---"
   ]
  },
  {
   "cell_type": "markdown",
   "metadata": {
    "id": "QucUm7bFqJjU"
   },
   "source": [
    "The result is a short summary of our paragraph.\n"
   ]
  },
  {
   "cell_type": "markdown",
   "metadata": {
    "id": "8L6rF52RqJjU"
   },
   "source": [
    "### Example 7 - [Translation](https://huggingface.co/course/chapter7/4?utm_medium=Exinfluencer&utm_source=Exinfluencer&utm_content=000026UJ&utm_term=10006555&utm_id=NA-SkillsNetwork-Channel-SkillsNetworkGuidedProjectsIBMGPXX0AIAEN102-2022-01-01&fw=pt)\n",
    "\n",
    "The last Example of this Guided Project shows the Translation application. **Translation** models take an input in some source language and output the translation in a target language. The evaluation metric used for this task is called BLEU (bilingual evaluation understudy). It is an algorithm for evaluating the quality of text which has been machine-translated from one natural language to another. It is on a scale from 0 to 1, 1 meaning perfect score.\n",
    "\n",
    "The are two types of models, *monolingual* models, trained on a specific language duo data, and there are *multilingual* models, trained on multiple languages dataset.\n",
    "\n",
    "\n",
    "<center> <img src=\"https://cf-courses-data.s3.us.cloud-object-storage.appdomain.cloud/IBM-GPXX0AIAEN/translation.png\" width=\"70%\"> <center>\n",
    "\n",
    "The Example below shows a monolingual, French-English model, \"translation_en_to_fr\", which levereges T5-base model under the hood. These models add a task prefix, e.g., \"_en_to_fr\", indicating the task itself, such as translate English to French. There are also multilingual models for inference. Their inference usage differs from monolingual models. For more information on how to use multilingual models, please visit this [documentation](https://huggingface.co/transformers/v3.0.2/multilingual.html?utm_medium=Exinfluencer&utm_source=Exinfluencer&utm_content=000026UJ&utm_term=10006555&utm_id=NA-SkillsNetwork-Channel-SkillsNetworkGuidedProjectsIBMGPXX0AIAEN102-2022-01-01).\n"
   ]
  },
  {
   "cell_type": "code",
   "execution_count": null,
   "metadata": {
    "colab": {
     "base_uri": "https://localhost:8080/",
     "height": 278,
     "referenced_widgets": [
      "4ce906612952449db271c6bd51c5b1c8",
      "2196aee3d6ff43ac937ea49cfa251061",
      "3d417f7c8e7e4eaf88170e492494f0f7",
      "00d51bf079d2433b9450968c9fc8f33d",
      "df9db93285a2407c892f6a9bae51791a",
      "eafc8b42d3424a08847f3e1a221fdc4c",
      "4c15b1a02b94410b990f37ec9e231761",
      "1735631a4c78424da415ffd1a88eb8ad",
      "f54962beafa04c74b1c9f431b626c6e2",
      "ae703d7ea68645fca991ae41ad83e8b9",
      "9bdff156172c4196a96ebcaa85108246",
      "18e921a7be0c4197bb4e7c5e338ffc43",
      "548d8dd4b5f045b8ac442774622652ce",
      "7c28c92cbff7406ca03c1ac5679d36b9",
      "3a957cd3e5dd4185b5a5af7094dd3159",
      "a54d7e78b41441219e9acf1f052b4325",
      "dd3225f56b5e491a82a975d31b9a414d",
      "5372ed12fe7c44619c0a9356d498861b",
      "69001ecf59b54ca094badcafa994ffc7",
      "66d8e68841254833890523c0e7325311",
      "cff0493546464fc1bad8737d1cfe0335",
      "d02d4350fbaa41cfac969fb452f0e2bb",
      "b59dc3ec3132447a98a33f85dfd8c7d6",
      "c43e6df655204c7fb04ff885689c448e",
      "8c80e4acd518466684264433b2309b7c",
      "8984e0094fdb4165861a2ad5040ebc22",
      "01f251cdef404223a67fe9b657b11d6c",
      "2ee17182890544deaee00208f27f442f",
      "d410137f249b4975ab4cb85a87a61ec4",
      "6ea6fad0c86c416ebf8e02f32b26593c",
      "8247caddb8344df29e9939a924b26236",
      "46f1767c10ef4ca4835bcee7aeea76b4",
      "2ba558f48b0a4547a8e935813d38d667",
      "1bf13cc6b2e04dbeb583a3c2775873b7",
      "bcbb5d66c51b4fc5b7cdad9e62829dd3",
      "19203296503546fbb6783a896635dc4d",
      "00e3a90b40944d478289e92a960279c6",
      "b36c1c2b738443dd8b134e3891b56bc5",
      "c4b22f7b7205465e97abf29eeac682d2",
      "c067d6b574884ba5a48099538d03bb9a",
      "71b7268ecf624d23993ae55d525fac19",
      "0d74017fe1f8497eb55969f483d58f3f",
      "5d0797c190174c169a081561b58c0513",
      "df221bc6aa374013a595097c9f9721f6",
      "da22567dd0404e9e8bdb00106ed32c2d",
      "c8a8a1d50f284fd8a60dd7398e5438cf",
      "dbc6b812f8e44fa7bfaa3c3a5406e283",
      "fef708f729bc4e099df197e9f464982e",
      "6800c54b78fd4711b65518a215f1337e",
      "975039bb4e124369a880e9cb3c67d5a2",
      "e6adde1858d04fa4bf2cd806ffdd36bf",
      "3ebf9031721449b098bfe9529702c296",
      "57dc6641e496411b9dc678e55c3332c6",
      "e62b4faabf504a32beb553145613b27c",
      "5b723beb8b76427f96f4ee0da8979fe1",
      "0dc9eea8694b4187bdfd3beb043e1efd",
      "23e6e13360ea43a9a7f35dc89a598077",
      "5ae7a6cb4e714baf97ac885e34cc4162",
      "6377cc451dfe411f9f10c77012085744",
      "a1549f734fbc443aaa66bdee069c9ae2",
      "5084dd3b022947eca4fbb650bfff72c2",
      "3667f9e3f8774c1c80f6f39d33aaf37c",
      "8d0d9e8ef5ec48fd99d6feeee5c78388",
      "b003bc4048574d2d88f63e82e8137b87",
      "c9588d6658f742cf97a49dda3eb94bf9",
      "36ded1876bf34b71b99c4563dc9a41f1"
     ]
    },
    "id": "7NoPtO9XqJjU",
    "outputId": "eafc1e9d-b61e-402b-aa9d-a43503e2a23f"
   },
   "outputs": [],
   "source": [
    "en_fr_translator = pipeline(\"translation_en_to_fr\", model=\"t5-small\")\n",
    "en_fr_translator(\"How old are you?\")"
   ]
  },
  {
   "cell_type": "markdown",
   "metadata": {
    "id": "63RhqJQaqJjU"
   },
   "source": [
    "If you would like to use a specific model that is from one specific language to another, you can also directly use the translation pipeline without specifying the model under the hood.\n"
   ]
  },
  {
   "cell_type": "code",
   "execution_count": null,
   "metadata": {
    "colab": {
     "base_uri": "https://localhost:8080/",
     "height": 377,
     "referenced_widgets": [
      "6221c49db1264e1790a9561eb95e7b8b",
      "f3b8e8e5bdb745039d4f7c1d43bfda22",
      "7cb1c555150d47de8ad3ddf46b4b2e09",
      "da97250667a84ce9a48e2a1a1b912f62",
      "f6b3ddd92a8b471ea0a8c14f4d62057f",
      "87616f08caf24865a1bf2df74c3662ea",
      "1d514a72e69f4f998eb029b236644ba4",
      "6810a78aae434c5c8ea9bb8e479c3723",
      "c04c1df67c124c32a5c95dcea2d5caf3",
      "0b6ddba4fdad406d8dffc939f90546c0",
      "d23a50f9361f441e9b5c3401db2bf71a",
      "a1f6995212824d3e9a2a7ffd85a7611b",
      "50d436b3205e4c5ea4be47eab61657dd",
      "6b19923aba734675a31d983d36eeba7a",
      "e4f497755b7b4012b28dd07e1bac82ea",
      "c56af9deb94d4b2c833c4d055379fed0",
      "637d8bbd46e4433dbc224d477bbd1e5b",
      "89b833f7333e4cc580b995a7f092e8ef",
      "e51bb5cb2bc54a0e9dc24761efd4935d",
      "35458fa1033b42a9b9a56a1130aa3591",
      "059ba0dcb1374af3947a75d84b630ab0",
      "3833fa48acdb4d22911d74c8bfb37b91",
      "2c19c33bba2d48af9d219dc3b221db53",
      "0e5db61fb42a426b8f8f8f05a3e957f4",
      "1b699f00ace940d7a9775d6a827a8ca7",
      "e9a887ec5a0d42ae8d98336a620e6631",
      "c6f2569921ff4f6aa6623f4cb09d4ced",
      "841540fc73d94ce6b4a2e4e09b2a4dd8",
      "965f58b8768e406baa00c94aff580aca",
      "d9ab297cc93b48a69d477b612e433754",
      "0e1b06c8d42d4d5382049f709ed06910",
      "2095c5d761a24cb9891529d61dac982e",
      "f3d4ae99bfd242698a8042cb0665a397",
      "84c5aa45aab34487be6a536133c38095",
      "5f0873fff37144a9a7f040c01f590eb0",
      "3b12b5911cd94922b9bf5ef04d3d89dd",
      "384c5fec83ad4a74bba4a282e883c7c4",
      "d454b45a4f694482ac0c6a15fbd823c8",
      "e3605699540741a08a07cffe0cb77645",
      "34b46bb38071428c8b8dced06933850d",
      "0e6878b2c5254f938b127f2f751df217",
      "2c0e5e9768aa40d5ba4f32595377a809",
      "d1cff7d2649d448e88ae3f1109357990",
      "2cb8ca31a9504ba1acbee5b9a9cb0028",
      "a26a817f7ac644bca07f3c5a8f6c189d",
      "62dca9b884624333b5d13bcea553635c",
      "7c791ab2b8fe4dc28e7c0e0b09d94442",
      "eb3a3b4164794cfd99f8351e91b47e19",
      "2663f15542324921998b45b220fbaaf3",
      "1a3a2524433e4f2591a70a18b6873de8",
      "5169cd63791649188aeb2f221dc980f3",
      "704bd2ac748c4c34bc747bbcbd6bcbff",
      "a8a1e518f94749c9bc423aeefe12b195",
      "a7ec3508cf3e49b2b422119470ab9e44",
      "f7d43e4f01ac40ab8b12e47e5515ad75",
      "fada95047ede44beb83fa64191a22046",
      "5734c2eecfe449e1b7cb5ba72e1030de",
      "20db9215d72a49609aae070464f94b29",
      "3bfdfa1254b146d7a406b9019aa36a61",
      "aa960e03c70444ef89cb5cdd38248bba",
      "48524732b0b345d39b59007e37c6d627",
      "6822bc25710a424ba2167aad978e82cc",
      "38f58fb88ca245669c0b194ab3d4cb67",
      "74b90354b12942eb8f5ebcc915e0d40f",
      "1eb33d6b191b446aa277ac08f1c292a9",
      "909a1acc4db04b4491c3caca9e1483c0",
      "3564573a521849229f41ccab34f6e1d9",
      "3df0eb0d532e48c487cdeacf39d7cf5d",
      "4578800548524f768d60850be423561f",
      "5772c6e794904ba5b17482a9e0371158",
      "9c6aa3206a324d4ca8616258469dd3f2",
      "dc6334ca272340b599034ec3b6790609",
      "c213d8fac6d94975a9991edb961428e9",
      "a7ad1305c4894ed89a0ea016f0bdaaa9",
      "5118f812c5e2490a9e41e52e0e9f2c04",
      "e31e0c96abaf4aa0a74c692e6dbf05de",
      "b443205152ff4fc38d17498f55520f06",
      "4f6b35ca7ff147dfb0bc5db320916898",
      "600a52c0df934426a96ba2cc586c2ae1",
      "5b36705d85aa4c8e866894713bd06da5",
      "622446376950496ba08d367f786cb4d3",
      "87896b93ea0247819fd76b816e507d70",
      "97ca5e127bcb43ce9b4c714ddcd37d7e",
      "b5871dac70e64e0b9cb93eac333170b2",
      "6271001f3d5847f4807beb62ed9d7868",
      "b76ea107fa584500b7a92bd62e7f3400",
      "8c1a9ba867b24e4ab38d988d9f5afa07",
      "7ce5b828f93348fab629e8efdf2a7160"
     ]
    },
    "id": "znnZ5xgLqJjU",
    "outputId": "175f6933-3004-409a-b777-a5744ee4102e"
   },
   "outputs": [],
   "source": [
    "translator = pipeline(\"translation\", model=\"Helsinki-NLP/opus-mt-fr-en\")\n",
    "translator(\"La science des données est la meilleure.\")"
   ]
  },
  {
   "cell_type": "markdown",
   "metadata": {
    "id": "Yu6xfJJM2BEA"
   },
   "source": [
    "---\n",
    "### TODO 7 : Make your own Indonesian sentence to be translated to France language."
   ]
  },
  {
   "cell_type": "code",
   "execution_count": null,
   "metadata": {
    "colab": {
     "base_uri": "https://localhost:8080/"
    },
    "id": "3pdFf0Hb2Jfj",
    "outputId": "5988f2b3-1097-4c02-9095-9b699bd0a708"
   },
   "outputs": [],
   "source": [
    "translator_id = pipeline(\"translation\", model=\"Helsinki-NLP/opus-mt-id-fr\")\n",
    "translator_id(\"Halo, apa kabar hari ini?\")"
   ]
  },
  {
   "cell_type": "markdown",
   "metadata": {
    "id": "Ftoz6gDD2J0W"
   },
   "source": [
    "---"
   ]
  },
  {
   "cell_type": "markdown",
   "metadata": {
    "id": "3AxhyP52qJjU"
   },
   "source": [
    "# **Let's Practice**\n"
   ]
  },
  {
   "cell_type": "markdown",
   "metadata": {
    "id": "CNGchIGIqJjU"
   },
   "source": [
    "### Exercise 1 - Sentiment Analysis\n",
    "For sentiment analysis, we can also use a specific model that is better suited to our use case by providing the name of the model. For example, if we want a sentiment analysis model for tweets, we can specify the following model id: \"cardiffnlp/twitter-roberta-base-sentiment\". This model has been trained on  ~58M tweets and fine-tuned for sentiment analysis with the \"TweetEval\" benchmark.\n",
    "The output labels for this model are: 0 -> Negative; 1 -> Neutral; 2 -> Positive.\n",
    "\n",
    "In this Exercise, use \"cardiffnlp/twitter-roberta-base-sentiment\" model pre-trained on tweets data, to analyze any tweet of choice. Optionally, use the default model (used in Example 1) on the same tweet, to see if the result will change.\n"
   ]
  },
  {
   "cell_type": "code",
   "execution_count": null,
   "metadata": {
    "colab": {
     "base_uri": "https://localhost:8080/",
     "height": 313,
     "referenced_widgets": [
      "98870936d0b34ea5bafafd84468e14e7",
      "4329414c97e64b0bba00d547f801bfae",
      "5dafae19244546e49b6b5ed7239db3eb",
      "aad94dd8cd6940f887a667ce9aeae67f",
      "5c8306b7a2ba4b3ca0857634c973b65b",
      "31a2596ed5834b078bce008629cd92e4",
      "6ca84169e39f457da5395636c36ab1c7",
      "8ad4879183254e8b92f314a3235110f1",
      "86d0df440c00478aacf49f7e5ee6acab",
      "bce055aa28894245bdd985c30382559c",
      "dda886ce0c494d248dd2366c993a8fe7",
      "44e42726f99745eea991faa19be896d4",
      "42f94ba1bf6344cf9433eba057581f72",
      "8b36d4d513fa48e089d77e19fe7205e6",
      "dc938c6e822c4aefa5e2046a6f058e36",
      "1cff735c2095438c8e44b4e5432a1b08",
      "d4601c0bd10345ab8465d772905e1197",
      "3b1648c4698a45cf928f9e349e01c5c9",
      "4a20c9f6ffab4891a6a53189153e65b0",
      "c7e823d0dc6845268cd9b97d46a05371",
      "78b9a2e15ebc46c4916066b834306d2c",
      "ca2383c480cb43d3bce7ba3587471803",
      "e42fd0b173794c188b28ccb2acfc6285",
      "82ecc98498e14fafa86d37dfa84d6c62",
      "2ef9454911134675bc3b9d785106cf56",
      "209b2536b4eb4b89872e8f571df62f3b",
      "97e07393cea8453888b75525a1e2fe1f",
      "0a5b99db3765448ba75695109cc8aa80",
      "55fd3e3b1ae542759ecb2b1956c64786",
      "81316da85d1844cd89d1eb5628476482",
      "bdb270c2d386490fb88b126b7343fb42",
      "7404ebd07f8948e2b0de785583b59ef4",
      "37065b8dc91f4f0db9b0a3a1d88923e9",
      "da12dbb5fee44a08aae083bdb3e31095",
      "31897f6a6aaf43dfacac1f571e09b6da",
      "65ebd6dc04c449d48d2af7c4ed4f44d7",
      "22983695f1604e01bb0f7f1acfa9c9ba",
      "6f4efabb44c64db78ad1bfc0ada2bd47",
      "f13f70ba67ac48519f7a1e3617651009",
      "fe43f24db9c7403bb2f136a3b53d6648",
      "03582b2d24864dec9aa4c2b817bad5f2",
      "4f65d0694f5441228e1de37057dc68da",
      "689e2d113440442798427fa6b7c93717",
      "25a67b72cec8480489ed55dcc9101c5d",
      "9e909cb95a05473589d6658889613cc9",
      "6f2457e0523846a3a6433ee5ac89855d",
      "2d4cbd0e56174eeea5b671945b2ee7c0",
      "601da203289f4b6fa8fd6be107c51f62",
      "13aafb778e104bf4a52fb0ea23d315f2",
      "d4975c6d93d34d1d85c627532c61e962",
      "f94c30d7568241d7922b08e48f8a6729",
      "97bfa71addc94d469acd1948ce317370",
      "5a971cdf28834e8d8a0b3352f521d93b",
      "7a78360e12d04dd299ab5f73d3ad9175",
      "7d400891c2ad46b6ba29557cfc8a5aae",
      "961665d90d9a42ddbf32ba25f4be8cbd",
      "25c93eac8b3d4e9ab4facc858654c3bf",
      "02c35f95def64c9caff663271e204d78",
      "9dcbba6061034bcb988d71c78098ac7b",
      "1f387b81b119446ea2778d116d843b00",
      "18c65bce816840b0bcae2fe944b4f2ad",
      "6c6445f1179f4a88ae80edbbb5046b45",
      "e9890ebc7b3547aa86e2c6d5bdce0e72",
      "1e8f11ab4fed427fa73e26a2d21f978b",
      "073f81995ca7440693a6f4a6e16d2559",
      "1bfc1a36371545b697aec072798fa3b1"
     ]
    },
    "id": "S5HL9tX9qJjV",
    "outputId": "ba786635-fd1e-4163-a434-b4f2dab95773"
   },
   "outputs": [],
   "source": [
    "# TODO\n",
    "specific_model = pipeline(model=\"cardiffnlp/twitter-roberta-base-sentiment\")\n",
    "data = \"Artificial intelligence and automation are already causing friction in the workforce. Should schools revamp existing programs for topics like #AI, or are new research areas required?\"\n",
    "specific_model(data)"
   ]
  },
  {
   "cell_type": "code",
   "execution_count": null,
   "metadata": {
    "colab": {
     "base_uri": "https://localhost:8080/",
     "height": 249,
     "referenced_widgets": [
      "e7589670bdd2446bbf6dbf9866e7d1ca",
      "a7685960b4e14c7aafd4b1a4aa150540",
      "5b0a6518a68f49bb8b83a2e6498ab8b3",
      "cdc05eae6a2c4faaa7ab3f87d3606f4a",
      "7066d2c34b0f4afbb554c016c63e52ed",
      "56535a5fef7a4eb2af82df787bc806c5",
      "f41557ac016f4ab8bd6cd5ab0ad00a3f",
      "f8d9caeec9214439b218e09814c893ff",
      "cc4ae9ea123241fd8594faacb762ce21",
      "1930c48d06774fdbb7d058b9fb0c4134",
      "1bd912c12c5d4f2699ebc6659e39efc0",
      "cf2446a2fe714ec48ed06916a39ad268",
      "66f645c066554134bdd32f180b1bb20c",
      "61a38a99d43647f3806f380ba308f4f7",
      "c9f14c772aa1487b93396af83f5b8e75",
      "b7e5f7388b0a4c4e8be46079c37f42df",
      "eb90314ecf394e4eb7154ef91ec6be52",
      "07ffb7dc41a844ab87b2e2fef487129a",
      "80f1599d1d884e65877919b9c7c52f90",
      "02d413d11a0e4d71bf46b4773b4f7430",
      "bb948e2fcf7f44fe85493e7cbc15d1d0",
      "c534ad830b4840298717c3ee6eb2486c",
      "c819fda8dc3a452c8830a09f3feffac7",
      "04be53ca11f44475af2baeac1d9512bc",
      "68c422f3266e4581b4073fc07a1e7ac5",
      "ceaf6d7a30de4da7a1483da4803a4570",
      "9c1de9e3fc8449c5af12d00f090d5b14",
      "b8a7e14616ed41129b3b9616835a2d92",
      "e0c969b21dce40d1978bf61e9ff519fc",
      "e9e7441c7e9b4a8cbc8392c5856988e8",
      "203a92c41e844628814816c03d428073",
      "cf33b4e967454491b7755bcb24e7a2c3",
      "787956d46f5e434c8c1c79c5b633f7af",
      "65adc322f81445c7be4887d86e1469e1",
      "5339d5c0d3094117b419798909e5a942",
      "a9f465dd6ebd42889c69db87713d5988",
      "8e7e6bd85529496ba9098ad654b6a698",
      "324441cc357d477fbc7b397db55f629a",
      "b70c42de44064759a698b3bcb4323a53",
      "32fecc81864843b481a1da634727a65b",
      "38e36016b428419b8d16d6c063e6a949",
      "7292fa1383aa4669921fede64d9222dc",
      "c8ab57f52aa94c078a47e8c2772f168d",
      "df177a14d86a4a248be04d583d382363"
     ]
    },
    "id": "ScI8dDi0qJjV",
    "outputId": "164ea915-63f8-4698-cb6b-10d13c8f2a63"
   },
   "outputs": [],
   "source": [
    "# TODO\n",
    "original_model = pipeline(\"sentiment-analysis\")\n",
    "data = \"Artificial intelligence and automation are already causing friction in the workforce. Should schools revamp existing programs for topics like #AI, or are new research areas required?\"\n",
    "original_model(data)"
   ]
  },
  {
   "cell_type": "markdown",
   "metadata": {
    "id": "rvpRqoFzqJjV"
   },
   "source": [
    "<details>\n",
    "    <summary>Click here for Solution</summary>\n",
    "\n",
    "```python\n",
    "specific_model = pipeline(model=\"cardiffnlp/twitter-roberta-base-sentiment\")\n",
    "data = \"Artificial intelligence and automation are already causing friction in the workforce. Should schools revamp existing programs for topics like #AI, or are new research areas required?\"\n",
    "specific_model(data)\n",
    "\n",
    "```\n",
    "\n",
    "</details>\n"
   ]
  },
  {
   "cell_type": "markdown",
   "metadata": {
    "id": "0_wCIlreqJjV"
   },
   "source": [
    "<details>\n",
    "    <summary>Click here for Solution</summary>\n",
    "\n",
    "```python\n",
    "original_model = pipeline(\"sentiment-analysis\")\n",
    "data = \"Artificial intelligence and automation are already causing friction in the workforce. Should schools revamp existing programs for topics like #AI, or are new research areas required?\"\n",
    "original_model(data)\n",
    "\n",
    "```\n",
    "\n",
    "</details>\n"
   ]
  },
  {
   "cell_type": "markdown",
   "metadata": {
    "id": "_nqTaGghqJjV"
   },
   "source": [
    "<details>\n",
    "    <summary>Click here for a Hint</summary>\n",
    "    \n",
    "As we see, tweet specific model classifies the tweet as neutral (LABEL_1), which it actually might be, versus the general model, classifies the same tweet as 'NEGATIVE', which is probably not entirely negative.\n",
    "\n",
    "</details>\n"
   ]
  },
  {
   "cell_type": "markdown",
   "metadata": {
    "id": "WA300hpZqJjV"
   },
   "source": [
    "### Exercise 2 - Topic Classification\n",
    "In this Exercise, use any sentence of choice to classify it under any classes/ topics of choice. Use \"zero-shot-classification\" and specify the model=\"facebook/bart-large-mnli\".\n"
   ]
  },
  {
   "cell_type": "code",
   "execution_count": null,
   "metadata": {
    "colab": {
     "base_uri": "https://localhost:8080/"
    },
    "id": "QES96y8BqJjV",
    "outputId": "c3f35664-0b91-4d75-8e76-e3b30b391213"
   },
   "outputs": [],
   "source": [
    "# TODO\n",
    "classifier = pipeline(\"zero-shot-classification\", model=\"facebook/bart-large-mnli\")\n",
    "classifier(\n",
    "    \"I love travelling and learning new cultures\",\n",
    "    candidate_labels=[\"art\", \"education\", \"travel\"],\n",
    ")"
   ]
  },
  {
   "cell_type": "markdown",
   "metadata": {
    "id": "AgmZHu2JqJjV"
   },
   "source": [
    "<details>\n",
    "    <summary>Click here for Solution</summary>\n",
    "\n",
    "```python\n",
    "classifier = pipeline(\"zero-shot-classification\", model=\"facebook/bart-large-mnli\")\n",
    "classifier(\n",
    "    \"I love travelling and learning new cultures\",\n",
    "    candidate_labels=[\"art\", \"education\", \"travel\"],\n",
    ")\n",
    "```\n",
    "\n",
    "</details>\n"
   ]
  },
  {
   "cell_type": "markdown",
   "metadata": {
    "id": "HhBJxOvxqJjV"
   },
   "source": [
    "### Exercise 3 - Text Generation Models\n",
    "\n",
    "In this Exercise, use 'text-generator' and 'gpt2' model to complete any sentence. Define any desirable number of returned sentences.\n"
   ]
  },
  {
   "cell_type": "code",
   "execution_count": null,
   "metadata": {
    "colab": {
     "base_uri": "https://localhost:8080/"
    },
    "id": "0fFrHaBxqJjW",
    "outputId": "377720fe-ca4b-44ea-957a-3cfeb83da0fc"
   },
   "outputs": [],
   "source": [
    "# TODO\n",
    "generator = pipeline('text-generation', model = 'gpt2')\n",
    "generator(\"Hello, I'm a language model\", max_length = 30, num_return_sequences=3)"
   ]
  },
  {
   "cell_type": "markdown",
   "metadata": {
    "id": "1N-k1WmTqJjW"
   },
   "source": [
    "<details>\n",
    "    <summary>Click here for Solution</summary>\n",
    "\n",
    "```python\n",
    "generator = pipeline('text-generation', model = 'gpt2')\n",
    "generator(\"Hello, I'm a language model\", max_length = 30, num_return_sequences=3)\n",
    "```\n",
    "\n",
    "</details>\n"
   ]
  },
  {
   "cell_type": "markdown",
   "metadata": {
    "id": "XgJm6AxRqJjW"
   },
   "source": [
    "### Exercise 4 - Name Entity Recognition\n",
    "In this Exercise, use any sentence of choice to extract entities: person, location and organization, using Name Entity Recognition task, specify model as \"Jean-Baptiste/camembert-ner\".\n"
   ]
  },
  {
   "cell_type": "code",
   "execution_count": null,
   "metadata": {
    "colab": {
     "base_uri": "https://localhost:8080/",
     "height": 212,
     "referenced_widgets": [
      "df0c27c6ea8a4bec9c2d36277003d872",
      "013eefe56e1d4cab97ec0f3fd1285e75",
      "a2dbea6fea0d4875b5fe572954cc23be",
      "09c5978d0f83492f865ae510e2840c9a",
      "e18709ef438748ae9936327dcaa8a790",
      "0f898a32660948cfb54d91b20bdf344d",
      "8e2b423456c64059b02f6faec6ba7c21",
      "aad8fc9e0c8e4b92b38dc69ba2d56963",
      "9fedb820e6ec45c083dccb387cc389d6",
      "a78a95412f11469a83331b03405557fd",
      "b59d45e5e23c4779acb650dc5f6d0e1f",
      "0a7cb24bd5dd490094afff50389c886d",
      "faae76e9fb2c4812b61e4aa8e61cac0a",
      "085f6224b0404eaca019c3746dc93325",
      "416ac2d9ee1d46c8ab7b39f7eed4016e",
      "f93a3f938608477fba9766073d6b648c",
      "30eab89b3bd3408fbf5e1e04d4a1a6d9",
      "45b5d604ae3b496c8b6c5af85635101c",
      "c0ff1965b9dd4b73910320e5edd753d9",
      "d3f51214ea504d6191b4c64b58e2a525",
      "c180c4b66dbb49ef9089d9a12ec75546",
      "c8006f326d1e4042a5841ebaabac042d",
      "e3104d25e4044b638fe71a9221539c3d",
      "2bb31d1d6b3d4b998b3b78609bedcf34",
      "be77b8699bbf4f338064a85676a8a091",
      "f01e66816a3a42e2a1bf244ca146c937",
      "db6a094d095846d3a86b3adbcb11216b",
      "246ee654f1504713949c28b5dc504a88",
      "211a82a4500a4949a791548e0dba43d5",
      "316b28335835479aadf92aa6135073ef",
      "9ba81013c08e469082deb6405b72adba",
      "5330dc30e57d455ca1dce3eec5f9d94f",
      "fe87aab1e2944ec6999960087300811c",
      "386a3f29b0a64c828afc552b3de31d2a",
      "8da6324e35534b83a05e84ec8ec62990",
      "a7cd04b7b04f4715a135146c053269ca",
      "24fbaa52e21f4a9f8b2193913fb6f89d",
      "66262733317943e5a8e96fc51fd2d264",
      "e06dc26087c547368cc2514ad06d6d1f",
      "87733f1d2f1f401e8b72e4830518f0c7",
      "bd273d5b15a34574b497592f3ecbc9df",
      "a31ddedbf2d34e16b207a8acaee487a8",
      "69a1202026fc4b37abbb2fe81340af2d",
      "3f082fd18fb44e2da4b50c716137cfa4",
      "228560588eee40b1bfe327a5ea296fea",
      "a2b69de5f00a4a32b0780c56e73ee0f3",
      "c4a7eec578084d5593824f55773b1767",
      "b839e4332b094a0cb3896b79140fe458",
      "0a4de8b199f047d09dcd8e92435f0e31",
      "d5fba3d416634e3cad3c2a8e65598819",
      "630ab11b082b4849864ce2896a384788",
      "7f578f8ea5404bd183331b9ed6767d9b",
      "1e604240f8424bb49f671d96ae83f846",
      "4587da8045c242949521cfc247bc3e67",
      "ec799caecddd470a8224cdb7a93c0b0e"
     ]
    },
    "id": "jip_nB0rqJjW",
    "outputId": "e7b83b7a-0b9d-4e09-8270-353e579485c9"
   },
   "outputs": [],
   "source": [
    "# TODO\n",
    "nlp = pipeline(\"ner\", model=\"Jean-Baptiste/camembert-ner\", grouped_entities=True)\n",
    "example = \"Her name is Anjela and she lives in Seoul.\"\n",
    "\n",
    "ner_results = nlp(example)\n",
    "print(ner_results)"
   ]
  },
  {
   "cell_type": "markdown",
   "metadata": {
    "id": "LY_UMpqbqJjW"
   },
   "source": [
    "<details>\n",
    "    <summary>Click here for Solution</summary>\n",
    "\n",
    "```python\n",
    "nlp = pipeline(\"ner\", model=\"Jean-Baptiste/camembert-ner\", grouped_entities=True)\n",
    "example = \"Her name is Anjela and she lives in Seoul.\"\n",
    "\n",
    "ner_results = nlp(example)\n",
    "print(ner_results)\n",
    "```\n",
    "\n",
    "</details>\n"
   ]
  },
  {
   "cell_type": "markdown",
   "metadata": {
    "id": "BrhGO6D8qJjW"
   },
   "source": [
    "### Exercise 5 - Question Answering\n",
    "In this Exercise, use any sentence and a question of choice to extract some information, using \"distilbert-base-cased-distilled-squad\" model.\n"
   ]
  },
  {
   "cell_type": "code",
   "execution_count": null,
   "metadata": {
    "colab": {
     "base_uri": "https://localhost:8080/"
    },
    "id": "vWOjLSlCqJjW",
    "outputId": "76018921-2f63-4c9d-e90b-3a24ccfa472c"
   },
   "outputs": [],
   "source": [
    "# TODO\n",
    "question_answerer = pipeline(\"question-answering\", model=\"distilbert-base-cased-distilled-squad\")\n",
    "question_answerer(\n",
    "    question=\"Which lake is one of the five Great Lakes of North America?\",\n",
    "    context=\"Lake Ontario is one of the five Great Lakes of North America. It is surrounded on the north, west, and southwest by the Canadian province of Ontario, and on the south and east by the U.S. state of New York, whose water boundaries, along the international border, meet in the middle of the lake.\",\n",
    ")"
   ]
  },
  {
   "cell_type": "markdown",
   "metadata": {
    "id": "bt8eXVBmqJjW"
   },
   "source": [
    "<details>\n",
    "    <summary>Click here for Solution</summary>\n",
    "\n",
    "```python\n",
    "question_answerer = pipeline(\"question-answering\", model=\"distilbert-base-cased-distilled-squad\")\n",
    "question_answerer(\n",
    "    question=\"Which lake is one of the five Great Lakes of North America?\",\n",
    "    context=\"Lake Ontario is one of the five Great Lakes of North America. It is surrounded on the north, west, and southwest by the Canadian province of Ontario, and on the south and east by the U.S. state of New York, whose water boundaries, along the international border, meet in the middle of the lake.\",\n",
    ")\n",
    "```\n",
    "\n",
    "</details>\n",
    "\n"
   ]
  },
  {
   "cell_type": "markdown",
   "metadata": {
    "id": "eDwY-TPtqJjW"
   },
   "source": [
    "### Exercise 6 - Text Summarization\n",
    "In this Exercise, use any document/paragraph of choice and summarize it, using \"sshleifer/distilbart-cnn-12-6\" model.\n"
   ]
  },
  {
   "cell_type": "code",
   "execution_count": null,
   "metadata": {
    "colab": {
     "base_uri": "https://localhost:8080/"
    },
    "id": "7am_dqU_qJjX",
    "outputId": "428baa7c-2498-4789-93df-163aec39b849"
   },
   "outputs": [],
   "source": [
    "# TODO\n",
    "summarizer = pipeline(\"summarization\", model=\"sshleifer/distilbart-cnn-12-6\",  max_length=59)\n",
    "summarizer(\n",
    "    \"\"\"\n",
    "Lake Superior in central North America is the largest freshwater lake in the world by surface area and the third-largest by volume, holding 10% of the world's surface fresh water. The northern and westernmost of the Great Lakes of North America, it straddles the Canada–United States border with the province of Ontario to the north, and the states of Minnesota to the northwest and Wisconsin and Michigan to the south. It drains into Lake Huron via St. Marys River and through the lower Great Lakes to the St. Lawrence River and the Atlantic Ocean.\n",
    "\"\"\"\n",
    ")"
   ]
  },
  {
   "cell_type": "markdown",
   "metadata": {
    "id": "WmT9WoUNqJjX"
   },
   "source": [
    "<details>\n",
    "    <summary>Click here for Solution</summary>\n",
    "\n",
    "```python\n",
    "summarizer = pipeline(\"summarization\", model=\"sshleifer/distilbart-cnn-12-6\",  max_length=59)\n",
    "summarizer(\n",
    "    \"\"\"\n",
    "Lake Superior in central North America is the largest freshwater lake in the world by surface area and the third-largest by volume, holding 10% of the world's surface fresh water. The northern and westernmost of the Great Lakes of North America, it straddles the Canada–United States border with the province of Ontario to the north, and the states of Minnesota to the northwest and Wisconsin and Michigan to the south. It drains into Lake Huron via St. Marys River and through the lower Great Lakes to the St. Lawrence River and the Atlantic Ocean.\n",
    "\"\"\"\n",
    ")\n",
    "```\n",
    "\n",
    "</details>\n"
   ]
  },
  {
   "cell_type": "markdown",
   "metadata": {
    "id": "Idk8tnTNqJjX"
   },
   "source": [
    "### Exercise 7 - Translation\n",
    "In this Exercise, use any sentence of choice to translate English to German. The translation model you can use is \"translation_en_to_de\".\n"
   ]
  },
  {
   "cell_type": "code",
   "execution_count": null,
   "metadata": {
    "colab": {
     "base_uri": "https://localhost:8080/"
    },
    "id": "lbvFeHRCqJjX",
    "outputId": "97ef029c-152a-417c-cf10-5c303f070d63"
   },
   "outputs": [],
   "source": [
    "# TODO\n",
    "translator = pipeline(\"translation_en_to_de\", model=\"t5-small\")\n",
    "print(translator(\"New York is my favourite city\", max_length=40))"
   ]
  },
  {
   "cell_type": "markdown",
   "metadata": {
    "id": "QKtC3KNpqJjX"
   },
   "source": [
    "<details>\n",
    "    <summary>Click here for Solution</summary>\n",
    "\n",
    "```python\n",
    "translator = pipeline(\"translation_en_to_de\", model=\"t5-small\")\n",
    "print(translator(\"New York is my favourite city\", max_length=40))\n",
    "```\n",
    "\n",
    "</details>\n"
   ]
  },
  {
   "cell_type": "markdown",
   "metadata": {
    "id": "0xGZLko9qJjX"
   },
   "source": [
    "## Congratulations! You have completed this guided project.\n"
   ]
  },
  {
   "cell_type": "markdown",
   "metadata": {
    "id": "mxQYtC2dqJjX"
   },
   "source": [
    "## Author\n"
   ]
  },
  {
   "cell_type": "markdown",
   "metadata": {
    "id": "elUXsF77qJjX"
   },
   "source": [
    "[Svitlana Kramar](www.linkedin.com/in/svitlana-kramar)\n"
   ]
  },
  {
   "cell_type": "markdown",
   "metadata": {
    "id": "z6tp35e3qJjY"
   },
   "source": [
    "## Change Log\n"
   ]
  },
  {
   "cell_type": "markdown",
   "metadata": {
    "id": "Fw_MOQzuqJjY"
   },
   "source": [
    "|Date (YYYY-MM-DD)|Version|Changed By|Change Description|\n",
    "|-|-|-|-|\n",
    "|2022-09-20|0.1|Svitlana K.|Created first version|\n",
    "|2022-09-27|0.2|Svitlana K.|Created second version. Added diagrams.|\n"
   ]
  },
  {
   "cell_type": "markdown",
   "metadata": {
    "id": "UGUIDdigqJjY"
   },
   "source": [
    "Copyright © 2022 IBM Corporation. All rights reserved.\n"
   ]
  }
 ],
 "metadata": {
  "accelerator": "GPU",
  "colab": {
   "gpuType": "T4",
   "provenance": []
  },
  "kernelspec": {
   "display_name": "Python",
   "language": "python",
   "name": "conda-env-python-py"
  },
  "language_info": {
   "codemirror_mode": {
    "name": "ipython",
    "version": 3
   },
   "file_extension": ".py",
   "mimetype": "text/x-python",
   "name": "python",
   "nbconvert_exporter": "python",
   "pygments_lexer": "ipython3",
   "version": "3.7.12"
  }
 },
 "nbformat": 4,
 "nbformat_minor": 0
}
